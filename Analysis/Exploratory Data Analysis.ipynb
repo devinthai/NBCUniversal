{
 "cells": [
  {
   "cell_type": "markdown",
   "metadata": {},
   "source": [
    "# Exploratory Data Analysis\n",
    "\n",
    "Now that we've cleaned and parsed the data, we can start exploring it and looking for some initial insights."
   ]
  },
  {
   "cell_type": "code",
   "execution_count": 51,
   "metadata": {},
   "outputs": [],
   "source": [
    "import pandas as pd\n",
    "import matplotlib.pyplot as plt\n",
    "%matplotlib inline\n",
    "plt.style.use('seaborn')\n",
    "import numpy as np\n",
    "import seaborn as sns"
   ]
  },
  {
   "cell_type": "markdown",
   "metadata": {},
   "source": [
    "## Data Loading"
   ]
  },
  {
   "cell_type": "code",
   "execution_count": 2,
   "metadata": {},
   "outputs": [],
   "source": [
    "df = pd.read_csv('../Data/parsed_data.csv')"
   ]
  },
  {
   "cell_type": "markdown",
   "metadata": {},
   "source": [
    "We're going to drop the features that we've noted to be difficult to work with, in the future this may change as I learn more."
   ]
  },
  {
   "cell_type": "code",
   "execution_count": 3,
   "metadata": {},
   "outputs": [],
   "source": [
    "drop_features = ['plot', 'metacritic', 'production', 'actors', 'poster', 'director', 'keywords']\n",
    "df = df.drop(drop_features, axis = 1)"
   ]
  },
  {
   "cell_type": "markdown",
   "metadata": {},
   "source": [
    "Now we have to fix datatypes that we lost in conversion."
   ]
  },
  {
   "cell_type": "code",
   "execution_count": 4,
   "metadata": {},
   "outputs": [],
   "source": [
    "df[df.columns[11:33]] = df[df.columns[11:33]].astype('category')"
   ]
  },
  {
   "cell_type": "code",
   "execution_count": 5,
   "metadata": {},
   "outputs": [],
   "source": [
    "df[df.columns[35:51]] = df[df.columns[35:51]].astype('category')"
   ]
  },
  {
   "cell_type": "code",
   "execution_count": 6,
   "metadata": {},
   "outputs": [],
   "source": [
    "df['release_date'] = pd.to_datetime(df['release_date'])\n",
    "df['dvd_release'] = pd.to_datetime(df['dvd_release'])"
   ]
  },
  {
   "cell_type": "markdown",
   "metadata": {},
   "source": [
    "## Exploration\n",
    "\n",
    "Let's go about exploring the data keeping in mind some questions we want to answer:\n",
    "\n",
    "1. Do certain genres lend themselves to higher return?\n",
    "\n",
    "2. Do remakes, tent-poles and sequels perform differently?\n",
    "\n",
    "3. How does the time of year, weather and economic trends influence box office performance?\n",
    "\n",
    "Let's start with addressing 1.\n",
    "\n",
    "### How do we measure return?"
   ]
  },
  {
   "cell_type": "code",
   "execution_count": 7,
   "metadata": {
    "scrolled": true
   },
   "outputs": [
    {
     "data": {
      "text/plain": [
       "Text(0.5,0,'Adjusted Box Office Gross')"
      ]
     },
     "execution_count": 7,
     "metadata": {},
     "output_type": "execute_result"
    },
    {
     "data": {
      "image/png": "[encoded data removed]",
      "text/plain": [
       "<Figure size 432x288 with 1 Axes>"
      ]
     },
     "metadata": {
      "needs_background": "light"
     },
     "output_type": "display_data"
    }
   ],
   "source": [
    "plt.hist(df['inflated_gross'], bins=100)\n",
    "plt.xlabel('Adjusted Box Office Gross')"
   ]
  },
  {
   "cell_type": "markdown",
   "metadata": {},
   "source": [
    "Even at 100 bins, the data is very heavily skewed in that small section of the data. Perhaps we have to do some feature engineering. We can look at return in terms of Box Office Gross, or as a percentage of its budget. Let's see how using a ratio between Box Office Gross and Budget performs."
   ]
  },
  {
   "cell_type": "code",
   "execution_count": 8,
   "metadata": {},
   "outputs": [
    {
     "data": {
      "text/plain": [
       "(0.0, 600)"
      ]
     },
     "execution_count": 8,
     "metadata": {},
     "output_type": "execute_result"
    },
    {
     "data": {
      "image/png": "[encoded data removed]",
      "text/plain": [
       "<Figure size 432x288 with 1 Axes>"
      ]
     },
     "metadata": {
      "needs_background": "light"
     },
     "output_type": "display_data"
    }
   ],
   "source": [
    "tmp_df = df[df['inflated_budget']>0]\n",
    "pct_return = tmp_df['inflated_gross']/tmp_df['inflated_budget']\n",
    "plt.hist(pct_return, bins = 500)\n",
    "plt.ylim(ymin=0.0, ymax=600)"
   ]
  },
  {
   "cell_type": "markdown",
   "metadata": {},
   "source": [
    "At first I thought there was an issue with code, but actually the issue became evident after increasing the granularity to an extreme level (bins = 500). There is a massive outlier at 7000. Next, there is a HUGE number of points with 0 as their ratio. This is the graph with only points greater than 0, limited x range, and even further increased granularity."
   ]
  },
  {
   "cell_type": "code",
   "execution_count": 9,
   "metadata": {},
   "outputs": [
    {
     "data": {
      "text/plain": [
       "(0, 5)"
      ]
     },
     "execution_count": 9,
     "metadata": {},
     "output_type": "execute_result"
    },
    {
     "data": {
      "image/png": "[encoded data removed]",
      "text/plain": [
       "<Figure size 432x288 with 1 Axes>"
      ]
     },
     "metadata": {
      "needs_background": "light"
     },
     "output_type": "display_data"
    }
   ],
   "source": [
    "#pct_return.drop(pct_return[pct_return == max(pct_return)].index)\n",
    "plt.hist(pct_return[pct_return>0], bins = 10000)\n",
    "plt.xlim(xmin = 0, xmax = 5)"
   ]
  },
  {
   "cell_type": "markdown",
   "metadata": {},
   "source": [
    "This histogram is clearly still in the same shape as the one for just adjusted box office gross. We'll try a log transformation to get around the skewedness."
   ]
  },
  {
   "cell_type": "code",
   "execution_count": 31,
   "metadata": {},
   "outputs": [
    {
     "data": {
      "text/plain": [
       "Text(0.5,0,'log(pct_return), pct_return>0')"
      ]
     },
     "execution_count": 31,
     "metadata": {},
     "output_type": "execute_result"
    },
    {
     "data": {
      "image/png": "[encoded data removed]",
      "text/plain": [
       "<Figure size 432x288 with 1 Axes>"
      ]
     },
     "metadata": {
      "needs_background": "light"
     },
     "output_type": "display_data"
    }
   ],
   "source": [
    "import math\n",
    "\n",
    "plt.hist(pct_return[pct_return>0].apply(lambda x: math.log(x)), bins=30)\n",
    "plt.xlabel('log(pct_return), pct_return>0')"
   ]
  },
  {
   "cell_type": "code",
   "execution_count": 32,
   "metadata": {},
   "outputs": [
    {
     "data": {
      "text/plain": [
       "Text(0.5,0,'log(pct_return+1)')"
      ]
     },
     "execution_count": 32,
     "metadata": {},
     "output_type": "execute_result"
    },
    {
     "data": {
      "image/png": "[encoded data removed]",
      "text/plain": [
       "<Figure size 432x288 with 1 Axes>"
      ]
     },
     "metadata": {
      "needs_background": "light"
     },
     "output_type": "display_data"
    }
   ],
   "source": [
    "plt.hist((pct_return+1).apply(lambda x: math.log(x)), bins=30)\n",
    "plt.xlabel('log(pct_return+1)')"
   ]
  },
  {
   "cell_type": "markdown",
   "metadata": {},
   "source": [
    "Clearly adding 1 to all of the pct_return values is erroneous. This is because many of the values are between 0 and 1, indicating movies that lost money. If we add 1 to them, all of those values are suddenly shifted and they lose all meaning. Let's try replacing only the 0's with 1's."
   ]
  },
  {
   "cell_type": "code",
   "execution_count": 38,
   "metadata": {},
   "outputs": [
    {
     "data": {
      "text/plain": [
       "Text(0.5,0,'log(pct_return), 0s mapped to 1')"
      ]
     },
     "execution_count": 38,
     "metadata": {},
     "output_type": "execute_result"
    },
    {
     "data": {
      "image/png": "[encoded data removed]",
      "text/plain": [
       "<Figure size 432x288 with 1 Axes>"
      ]
     },
     "metadata": {
      "needs_background": "light"
     },
     "output_type": "display_data"
    }
   ],
   "source": [
    "tmp_return = pct_return\n",
    "tmp_return[pct_return==0] = tmp_return[pct_return==0]+1\n",
    "plt.hist(tmp_return.apply(lambda x: math.log(x)), bins=30)\n",
    "plt.xlabel('log(pct_return), 0s mapped to 1')"
   ]
  },
  {
   "cell_type": "markdown",
   "metadata": {},
   "source": [
    "The histogram bears more useful information than the above one, however there is still an issue with the huge amount of 0s."
   ]
  },
  {
   "cell_type": "code",
   "execution_count": 30,
   "metadata": {},
   "outputs": [
    {
     "data": {
      "text/plain": [
       "Text(0.5,0,'log(inflated_gross+1)')"
      ]
     },
     "execution_count": 30,
     "metadata": {},
     "output_type": "execute_result"
    },
    {
     "data": {
      "image/png": "[encoded data removed]",
      "text/plain": [
       "<Figure size 432x288 with 1 Axes>"
      ]
     },
     "metadata": {
      "needs_background": "light"
     },
     "output_type": "display_data"
    }
   ],
   "source": [
    "plt.hist((df['inflated_gross']+1).apply(lambda x: math.log(x)), bins=30)\n",
    "plt.xlabel('log(inflated_gross+1)')"
   ]
  },
  {
   "cell_type": "markdown",
   "metadata": {},
   "source": [
    "We've added 1 to each of the values because adding constants doesn't change variance, but allows us to avoid taking the log of 0. We have some separation between all of the points now, but there is still a huge pillar right around zero. This is expected because we had a lot of points at zero. It's unreasonable to believe that a movie grossed absolutely nothing at all. Let's look at this histogram with only values above 0."
   ]
  },
  {
   "cell_type": "code",
   "execution_count": 29,
   "metadata": {},
   "outputs": [
    {
     "data": {
      "text/plain": [
       "Text(0.5,0,'log(inflated_gross), inflated_gross>0')"
      ]
     },
     "execution_count": 29,
     "metadata": {},
     "output_type": "execute_result"
    },
    {
     "data": {
      "image/png": "[encoded data removed]",
      "text/plain": [
       "<Figure size 432x288 with 1 Axes>"
      ]
     },
     "metadata": {
      "needs_background": "light"
     },
     "output_type": "display_data"
    }
   ],
   "source": [
    "plt.hist(df['inflated_gross'][df['inflated_gross']>0].apply(lambda x: math.log(x)), bins=30)\n",
    "plt.xlabel('log(inflated_gross), inflated_gross>0')"
   ]
  },
  {
   "cell_type": "markdown",
   "metadata": {},
   "source": [
    "Based on these histograms, we'll most likely have to stick to **datapoints in which 'inflated_gross' and pct_return are greater than 0**, then apply **log transformations** to them.\n",
    "\n",
    "### What factors determine the return of your movie?"
   ]
  },
  {
   "cell_type": "code",
   "execution_count": 39,
   "metadata": {},
   "outputs": [
    {
     "data": {
      "text/html": [
       "<div>\n",
       "<style scoped>\n",
       "    .dataframe tbody tr th:only-of-type {\n",
       "        vertical-align: middle;\n",
       "    }\n",
       "\n",
       "    .dataframe tbody tr th {\n",
       "        vertical-align: top;\n",
       "    }\n",
       "\n",
       "    .dataframe thead th {\n",
       "        text-align: right;\n",
       "    }\n",
       "</style>\n",
       "<table border=\"1\" class=\"dataframe\">\n",
       "  <thead>\n",
       "    <tr style=\"text-align: right;\">\n",
       "      <th></th>\n",
       "      <th>Unnamed: 0</th>\n",
       "      <th>imdbid</th>\n",
       "      <th>imdb_rating</th>\n",
       "      <th>imdb_votes</th>\n",
       "      <th>runtime</th>\n",
       "      <th>Budget</th>\n",
       "      <th>Box Office Gross</th>\n",
       "      <th>Fantasy</th>\n",
       "      <th>inflated_budget</th>\n",
       "      <th>inflated_gross</th>\n",
       "      <th>oscar</th>\n",
       "      <th>golden</th>\n",
       "      <th>bafta</th>\n",
       "      <th>primetime</th>\n",
       "      <th>win</th>\n",
       "      <th>nomination</th>\n",
       "    </tr>\n",
       "  </thead>\n",
       "  <tbody>\n",
       "    <tr>\n",
       "      <th>Unnamed: 0</th>\n",
       "      <td>1.000000</td>\n",
       "      <td>0.055085</td>\n",
       "      <td>-0.014417</td>\n",
       "      <td>-0.218285</td>\n",
       "      <td>-0.074274</td>\n",
       "      <td>-0.005995</td>\n",
       "      <td>-0.242831</td>\n",
       "      <td>-0.064183</td>\n",
       "      <td>-0.005867</td>\n",
       "      <td>-0.209068</td>\n",
       "      <td>-0.094939</td>\n",
       "      <td>-0.050675</td>\n",
       "      <td>-0.004806</td>\n",
       "      <td>0.028015</td>\n",
       "      <td>-0.080305</td>\n",
       "      <td>-0.138672</td>\n",
       "    </tr>\n",
       "    <tr>\n",
       "      <th>imdbid</th>\n",
       "      <td>0.055085</td>\n",
       "      <td>1.000000</td>\n",
       "      <td>0.035656</td>\n",
       "      <td>-0.245009</td>\n",
       "      <td>-0.018568</td>\n",
       "      <td>0.012589</td>\n",
       "      <td>-0.207009</td>\n",
       "      <td>-0.067882</td>\n",
       "      <td>0.006656</td>\n",
       "      <td>-0.232548</td>\n",
       "      <td>-0.168511</td>\n",
       "      <td>-0.090493</td>\n",
       "      <td>-0.020349</td>\n",
       "      <td>0.022227</td>\n",
       "      <td>-0.105522</td>\n",
       "      <td>-0.124880</td>\n",
       "    </tr>\n",
       "    <tr>\n",
       "      <th>imdb_rating</th>\n",
       "      <td>-0.014417</td>\n",
       "      <td>0.035656</td>\n",
       "      <td>1.000000</td>\n",
       "      <td>0.232745</td>\n",
       "      <td>0.114993</td>\n",
       "      <td>0.020246</td>\n",
       "      <td>0.131912</td>\n",
       "      <td>-0.040448</td>\n",
       "      <td>0.020723</td>\n",
       "      <td>0.134421</td>\n",
       "      <td>0.235596</td>\n",
       "      <td>0.078162</td>\n",
       "      <td>0.065866</td>\n",
       "      <td>0.048520</td>\n",
       "      <td>0.257013</td>\n",
       "      <td>0.262551</td>\n",
       "    </tr>\n",
       "    <tr>\n",
       "      <th>imdb_votes</th>\n",
       "      <td>-0.218285</td>\n",
       "      <td>-0.245009</td>\n",
       "      <td>0.232745</td>\n",
       "      <td>1.000000</td>\n",
       "      <td>0.217046</td>\n",
       "      <td>0.032432</td>\n",
       "      <td>0.738670</td>\n",
       "      <td>0.114707</td>\n",
       "      <td>0.036353</td>\n",
       "      <td>0.708665</td>\n",
       "      <td>0.501053</td>\n",
       "      <td>0.116265</td>\n",
       "      <td>0.048051</td>\n",
       "      <td>-0.013591</td>\n",
       "      <td>0.514725</td>\n",
       "      <td>0.588345</td>\n",
       "    </tr>\n",
       "    <tr>\n",
       "      <th>runtime</th>\n",
       "      <td>-0.074274</td>\n",
       "      <td>-0.018568</td>\n",
       "      <td>0.114993</td>\n",
       "      <td>0.217046</td>\n",
       "      <td>1.000000</td>\n",
       "      <td>0.064337</td>\n",
       "      <td>0.166780</td>\n",
       "      <td>0.037941</td>\n",
       "      <td>0.066105</td>\n",
       "      <td>0.161880</td>\n",
       "      <td>0.186683</td>\n",
       "      <td>0.045953</td>\n",
       "      <td>0.019510</td>\n",
       "      <td>-0.003013</td>\n",
       "      <td>0.173257</td>\n",
       "      <td>0.203251</td>\n",
       "    </tr>\n",
       "    <tr>\n",
       "      <th>Budget</th>\n",
       "      <td>-0.005995</td>\n",
       "      <td>0.012589</td>\n",
       "      <td>0.020246</td>\n",
       "      <td>0.032432</td>\n",
       "      <td>0.064337</td>\n",
       "      <td>1.000000</td>\n",
       "      <td>0.039661</td>\n",
       "      <td>0.036420</td>\n",
       "      <td>0.999658</td>\n",
       "      <td>0.033977</td>\n",
       "      <td>0.010720</td>\n",
       "      <td>0.001623</td>\n",
       "      <td>-0.000257</td>\n",
       "      <td>-0.003022</td>\n",
       "      <td>0.029883</td>\n",
       "      <td>0.031582</td>\n",
       "    </tr>\n",
       "    <tr>\n",
       "      <th>Box Office Gross</th>\n",
       "      <td>-0.242831</td>\n",
       "      <td>-0.207009</td>\n",
       "      <td>0.131912</td>\n",
       "      <td>0.738670</td>\n",
       "      <td>0.166780</td>\n",
       "      <td>0.039661</td>\n",
       "      <td>1.000000</td>\n",
       "      <td>0.150524</td>\n",
       "      <td>0.043666</td>\n",
       "      <td>0.937230</td>\n",
       "      <td>0.398127</td>\n",
       "      <td>0.108492</td>\n",
       "      <td>0.045826</td>\n",
       "      <td>-0.014794</td>\n",
       "      <td>0.317783</td>\n",
       "      <td>0.403258</td>\n",
       "    </tr>\n",
       "    <tr>\n",
       "      <th>Fantasy</th>\n",
       "      <td>-0.064183</td>\n",
       "      <td>-0.067882</td>\n",
       "      <td>-0.040448</td>\n",
       "      <td>0.114707</td>\n",
       "      <td>0.037941</td>\n",
       "      <td>0.036420</td>\n",
       "      <td>0.150524</td>\n",
       "      <td>1.000000</td>\n",
       "      <td>0.037053</td>\n",
       "      <td>0.144304</td>\n",
       "      <td>0.060474</td>\n",
       "      <td>0.006168</td>\n",
       "      <td>-0.000715</td>\n",
       "      <td>-0.009606</td>\n",
       "      <td>0.020655</td>\n",
       "      <td>0.043834</td>\n",
       "    </tr>\n",
       "    <tr>\n",
       "      <th>inflated_budget</th>\n",
       "      <td>-0.005867</td>\n",
       "      <td>0.006656</td>\n",
       "      <td>0.020723</td>\n",
       "      <td>0.036353</td>\n",
       "      <td>0.066105</td>\n",
       "      <td>0.999658</td>\n",
       "      <td>0.043666</td>\n",
       "      <td>0.037053</td>\n",
       "      <td>1.000000</td>\n",
       "      <td>0.039650</td>\n",
       "      <td>0.015099</td>\n",
       "      <td>0.002925</td>\n",
       "      <td>-0.000112</td>\n",
       "      <td>-0.003183</td>\n",
       "      <td>0.030696</td>\n",
       "      <td>0.032526</td>\n",
       "    </tr>\n",
       "    <tr>\n",
       "      <th>inflated_gross</th>\n",
       "      <td>-0.209068</td>\n",
       "      <td>-0.232548</td>\n",
       "      <td>0.134421</td>\n",
       "      <td>0.708665</td>\n",
       "      <td>0.161880</td>\n",
       "      <td>0.033977</td>\n",
       "      <td>0.937230</td>\n",
       "      <td>0.144304</td>\n",
       "      <td>0.039650</td>\n",
       "      <td>1.000000</td>\n",
       "      <td>0.436202</td>\n",
       "      <td>0.101777</td>\n",
       "      <td>0.037282</td>\n",
       "      <td>-0.014311</td>\n",
       "      <td>0.304338</td>\n",
       "      <td>0.361692</td>\n",
       "    </tr>\n",
       "    <tr>\n",
       "      <th>oscar</th>\n",
       "      <td>-0.094939</td>\n",
       "      <td>-0.168511</td>\n",
       "      <td>0.235596</td>\n",
       "      <td>0.501053</td>\n",
       "      <td>0.186683</td>\n",
       "      <td>0.010720</td>\n",
       "      <td>0.398127</td>\n",
       "      <td>0.060474</td>\n",
       "      <td>0.015099</td>\n",
       "      <td>0.436202</td>\n",
       "      <td>1.000000</td>\n",
       "      <td>-0.031605</td>\n",
       "      <td>-0.021326</td>\n",
       "      <td>-0.010955</td>\n",
       "      <td>0.637376</td>\n",
       "      <td>0.659549</td>\n",
       "    </tr>\n",
       "    <tr>\n",
       "      <th>golden</th>\n",
       "      <td>-0.050675</td>\n",
       "      <td>-0.090493</td>\n",
       "      <td>0.078162</td>\n",
       "      <td>0.116265</td>\n",
       "      <td>0.045953</td>\n",
       "      <td>0.001623</td>\n",
       "      <td>0.108492</td>\n",
       "      <td>0.006168</td>\n",
       "      <td>0.002925</td>\n",
       "      <td>0.101777</td>\n",
       "      <td>-0.031605</td>\n",
       "      <td>1.000000</td>\n",
       "      <td>-0.011610</td>\n",
       "      <td>-0.005964</td>\n",
       "      <td>0.038246</td>\n",
       "      <td>0.079856</td>\n",
       "    </tr>\n",
       "    <tr>\n",
       "      <th>bafta</th>\n",
       "      <td>-0.004806</td>\n",
       "      <td>-0.020349</td>\n",
       "      <td>0.065866</td>\n",
       "      <td>0.048051</td>\n",
       "      <td>0.019510</td>\n",
       "      <td>-0.000257</td>\n",
       "      <td>0.045826</td>\n",
       "      <td>-0.000715</td>\n",
       "      <td>-0.000112</td>\n",
       "      <td>0.037282</td>\n",
       "      <td>-0.021326</td>\n",
       "      <td>-0.011610</td>\n",
       "      <td>1.000000</td>\n",
       "      <td>-0.004024</td>\n",
       "      <td>0.050277</td>\n",
       "      <td>0.074161</td>\n",
       "    </tr>\n",
       "    <tr>\n",
       "      <th>primetime</th>\n",
       "      <td>0.028015</td>\n",
       "      <td>0.022227</td>\n",
       "      <td>0.048520</td>\n",
       "      <td>-0.013591</td>\n",
       "      <td>-0.003013</td>\n",
       "      <td>-0.003022</td>\n",
       "      <td>-0.014794</td>\n",
       "      <td>-0.009606</td>\n",
       "      <td>-0.003183</td>\n",
       "      <td>-0.014311</td>\n",
       "      <td>-0.010955</td>\n",
       "      <td>-0.005964</td>\n",
       "      <td>-0.004024</td>\n",
       "      <td>1.000000</td>\n",
       "      <td>-0.002252</td>\n",
       "      <td>0.006825</td>\n",
       "    </tr>\n",
       "    <tr>\n",
       "      <th>win</th>\n",
       "      <td>-0.080305</td>\n",
       "      <td>-0.105522</td>\n",
       "      <td>0.257013</td>\n",
       "      <td>0.514725</td>\n",
       "      <td>0.173257</td>\n",
       "      <td>0.029883</td>\n",
       "      <td>0.317783</td>\n",
       "      <td>0.020655</td>\n",
       "      <td>0.030696</td>\n",
       "      <td>0.304338</td>\n",
       "      <td>0.637376</td>\n",
       "      <td>0.038246</td>\n",
       "      <td>0.050277</td>\n",
       "      <td>-0.002252</td>\n",
       "      <td>1.000000</td>\n",
       "      <td>0.839640</td>\n",
       "    </tr>\n",
       "    <tr>\n",
       "      <th>nomination</th>\n",
       "      <td>-0.138672</td>\n",
       "      <td>-0.124880</td>\n",
       "      <td>0.262551</td>\n",
       "      <td>0.588345</td>\n",
       "      <td>0.203251</td>\n",
       "      <td>0.031582</td>\n",
       "      <td>0.403258</td>\n",
       "      <td>0.043834</td>\n",
       "      <td>0.032526</td>\n",
       "      <td>0.361692</td>\n",
       "      <td>0.659549</td>\n",
       "      <td>0.079856</td>\n",
       "      <td>0.074161</td>\n",
       "      <td>0.006825</td>\n",
       "      <td>0.839640</td>\n",
       "      <td>1.000000</td>\n",
       "    </tr>\n",
       "  </tbody>\n",
       "</table>\n",
       "</div>"
      ],
      "text/plain": [
       "                  Unnamed: 0    imdbid  imdb_rating  imdb_votes   runtime  \\\n",
       "Unnamed: 0          1.000000  0.055085    -0.014417   -0.218285 -0.074274   \n",
       "imdbid              0.055085  1.000000     0.035656   -0.245009 -0.018568   \n",
       "imdb_rating        -0.014417  0.035656     1.000000    0.232745  0.114993   \n",
       "imdb_votes         -0.218285 -0.245009     0.232745    1.000000  0.217046   \n",
       "runtime            -0.074274 -0.018568     0.114993    0.217046  1.000000   \n",
       "Budget             -0.005995  0.012589     0.020246    0.032432  0.064337   \n",
       "Box Office Gross   -0.242831 -0.207009     0.131912    0.738670  0.166780   \n",
       "Fantasy            -0.064183 -0.067882    -0.040448    0.114707  0.037941   \n",
       "inflated_budget    -0.005867  0.006656     0.020723    0.036353  0.066105   \n",
       "inflated_gross     -0.209068 -0.232548     0.134421    0.708665  0.161880   \n",
       "oscar              -0.094939 -0.168511     0.235596    0.501053  0.186683   \n",
       "golden             -0.050675 -0.090493     0.078162    0.116265  0.045953   \n",
       "bafta              -0.004806 -0.020349     0.065866    0.048051  0.019510   \n",
       "primetime           0.028015  0.022227     0.048520   -0.013591 -0.003013   \n",
       "win                -0.080305 -0.105522     0.257013    0.514725  0.173257   \n",
       "nomination         -0.138672 -0.124880     0.262551    0.588345  0.203251   \n",
       "\n",
       "                    Budget  Box Office Gross   Fantasy  inflated_budget  \\\n",
       "Unnamed: 0       -0.005995         -0.242831 -0.064183        -0.005867   \n",
       "imdbid            0.012589         -0.207009 -0.067882         0.006656   \n",
       "imdb_rating       0.020246          0.131912 -0.040448         0.020723   \n",
       "imdb_votes        0.032432          0.738670  0.114707         0.036353   \n",
       "runtime           0.064337          0.166780  0.037941         0.066105   \n",
       "Budget            1.000000          0.039661  0.036420         0.999658   \n",
       "Box Office Gross  0.039661          1.000000  0.150524         0.043666   \n",
       "Fantasy           0.036420          0.150524  1.000000         0.037053   \n",
       "inflated_budget   0.999658          0.043666  0.037053         1.000000   \n",
       "inflated_gross    0.033977          0.937230  0.144304         0.039650   \n",
       "oscar             0.010720          0.398127  0.060474         0.015099   \n",
       "golden            0.001623          0.108492  0.006168         0.002925   \n",
       "bafta            -0.000257          0.045826 -0.000715        -0.000112   \n",
       "primetime        -0.003022         -0.014794 -0.009606        -0.003183   \n",
       "win               0.029883          0.317783  0.020655         0.030696   \n",
       "nomination        0.031582          0.403258  0.043834         0.032526   \n",
       "\n",
       "                  inflated_gross     oscar    golden     bafta  primetime  \\\n",
       "Unnamed: 0             -0.209068 -0.094939 -0.050675 -0.004806   0.028015   \n",
       "imdbid                 -0.232548 -0.168511 -0.090493 -0.020349   0.022227   \n",
       "imdb_rating             0.134421  0.235596  0.078162  0.065866   0.048520   \n",
       "imdb_votes              0.708665  0.501053  0.116265  0.048051  -0.013591   \n",
       "runtime                 0.161880  0.186683  0.045953  0.019510  -0.003013   \n",
       "Budget                  0.033977  0.010720  0.001623 -0.000257  -0.003022   \n",
       "Box Office Gross        0.937230  0.398127  0.108492  0.045826  -0.014794   \n",
       "Fantasy                 0.144304  0.060474  0.006168 -0.000715  -0.009606   \n",
       "inflated_budget         0.039650  0.015099  0.002925 -0.000112  -0.003183   \n",
       "inflated_gross          1.000000  0.436202  0.101777  0.037282  -0.014311   \n",
       "oscar                   0.436202  1.000000 -0.031605 -0.021326  -0.010955   \n",
       "golden                  0.101777 -0.031605  1.000000 -0.011610  -0.005964   \n",
       "bafta                   0.037282 -0.021326 -0.011610  1.000000  -0.004024   \n",
       "primetime              -0.014311 -0.010955 -0.005964 -0.004024   1.000000   \n",
       "win                     0.304338  0.637376  0.038246  0.050277  -0.002252   \n",
       "nomination              0.361692  0.659549  0.079856  0.074161   0.006825   \n",
       "\n",
       "                       win  nomination  \n",
       "Unnamed: 0       -0.080305   -0.138672  \n",
       "imdbid           -0.105522   -0.124880  \n",
       "imdb_rating       0.257013    0.262551  \n",
       "imdb_votes        0.514725    0.588345  \n",
       "runtime           0.173257    0.203251  \n",
       "Budget            0.029883    0.031582  \n",
       "Box Office Gross  0.317783    0.403258  \n",
       "Fantasy           0.020655    0.043834  \n",
       "inflated_budget   0.030696    0.032526  \n",
       "inflated_gross    0.304338    0.361692  \n",
       "oscar             0.637376    0.659549  \n",
       "golden            0.038246    0.079856  \n",
       "bafta             0.050277    0.074161  \n",
       "primetime        -0.002252    0.006825  \n",
       "win               1.000000    0.839640  \n",
       "nomination        0.839640    1.000000  "
      ]
     },
     "execution_count": 39,
     "metadata": {},
     "output_type": "execute_result"
    }
   ],
   "source": [
    "df.corr()"
   ]
  },
  {
   "cell_type": "code",
   "execution_count": 44,
   "metadata": {},
   "outputs": [
    {
     "data": {
      "text/html": [
       "<div>\n",
       "<style scoped>\n",
       "    .dataframe tbody tr th:only-of-type {\n",
       "        vertical-align: middle;\n",
       "    }\n",
       "\n",
       "    .dataframe tbody tr th {\n",
       "        vertical-align: top;\n",
       "    }\n",
       "\n",
       "    .dataframe thead th {\n",
       "        text-align: right;\n",
       "    }\n",
       "</style>\n",
       "<table border=\"1\" class=\"dataframe\">\n",
       "  <thead>\n",
       "    <tr style=\"text-align: right;\">\n",
       "      <th></th>\n",
       "      <th>Unnamed: 0</th>\n",
       "      <th>imdbid</th>\n",
       "      <th>imdb_rating</th>\n",
       "      <th>imdb_votes</th>\n",
       "      <th>runtime</th>\n",
       "      <th>Budget</th>\n",
       "      <th>Box Office Gross</th>\n",
       "      <th>Fantasy</th>\n",
       "      <th>inflated_budget</th>\n",
       "      <th>inflated_gross</th>\n",
       "      <th>oscar</th>\n",
       "      <th>golden</th>\n",
       "      <th>bafta</th>\n",
       "      <th>primetime</th>\n",
       "      <th>win</th>\n",
       "      <th>nomination</th>\n",
       "    </tr>\n",
       "  </thead>\n",
       "  <tbody>\n",
       "    <tr>\n",
       "      <th>Unnamed: 0</th>\n",
       "      <td>1.000000</td>\n",
       "      <td>-0.071191</td>\n",
       "      <td>-0.018152</td>\n",
       "      <td>-0.232923</td>\n",
       "      <td>-0.056851</td>\n",
       "      <td>0.001750</td>\n",
       "      <td>-0.268001</td>\n",
       "      <td>-0.080000</td>\n",
       "      <td>0.002404</td>\n",
       "      <td>-0.225486</td>\n",
       "      <td>-0.092204</td>\n",
       "      <td>-0.047377</td>\n",
       "      <td>0.004082</td>\n",
       "      <td>0.006909</td>\n",
       "      <td>-0.069090</td>\n",
       "      <td>-0.138823</td>\n",
       "    </tr>\n",
       "    <tr>\n",
       "      <th>imdbid</th>\n",
       "      <td>-0.071191</td>\n",
       "      <td>1.000000</td>\n",
       "      <td>0.039799</td>\n",
       "      <td>-0.212204</td>\n",
       "      <td>0.013980</td>\n",
       "      <td>0.039147</td>\n",
       "      <td>-0.168591</td>\n",
       "      <td>-0.061583</td>\n",
       "      <td>0.032489</td>\n",
       "      <td>-0.206423</td>\n",
       "      <td>-0.152365</td>\n",
       "      <td>-0.079060</td>\n",
       "      <td>-0.005772</td>\n",
       "      <td>0.012027</td>\n",
       "      <td>-0.066928</td>\n",
       "      <td>-0.072737</td>\n",
       "    </tr>\n",
       "    <tr>\n",
       "      <th>imdb_rating</th>\n",
       "      <td>-0.018152</td>\n",
       "      <td>0.039799</td>\n",
       "      <td>1.000000</td>\n",
       "      <td>0.276402</td>\n",
       "      <td>0.177206</td>\n",
       "      <td>0.020959</td>\n",
       "      <td>0.147342</td>\n",
       "      <td>-0.033200</td>\n",
       "      <td>0.021324</td>\n",
       "      <td>0.151065</td>\n",
       "      <td>0.276775</td>\n",
       "      <td>0.088155</td>\n",
       "      <td>0.075972</td>\n",
       "      <td>0.033604</td>\n",
       "      <td>0.289233</td>\n",
       "      <td>0.302924</td>\n",
       "    </tr>\n",
       "    <tr>\n",
       "      <th>imdb_votes</th>\n",
       "      <td>-0.232923</td>\n",
       "      <td>-0.212204</td>\n",
       "      <td>0.276402</td>\n",
       "      <td>1.000000</td>\n",
       "      <td>0.266539</td>\n",
       "      <td>0.023250</td>\n",
       "      <td>0.725980</td>\n",
       "      <td>0.113996</td>\n",
       "      <td>0.026752</td>\n",
       "      <td>0.695043</td>\n",
       "      <td>0.489419</td>\n",
       "      <td>0.101294</td>\n",
       "      <td>0.040138</td>\n",
       "      <td>-0.013306</td>\n",
       "      <td>0.508064</td>\n",
       "      <td>0.574982</td>\n",
       "    </tr>\n",
       "    <tr>\n",
       "      <th>runtime</th>\n",
       "      <td>-0.056851</td>\n",
       "      <td>0.013980</td>\n",
       "      <td>0.177206</td>\n",
       "      <td>0.266539</td>\n",
       "      <td>1.000000</td>\n",
       "      <td>0.079965</td>\n",
       "      <td>0.200772</td>\n",
       "      <td>0.040201</td>\n",
       "      <td>0.082049</td>\n",
       "      <td>0.194657</td>\n",
       "      <td>0.220057</td>\n",
       "      <td>0.049279</td>\n",
       "      <td>0.021532</td>\n",
       "      <td>-0.005858</td>\n",
       "      <td>0.206707</td>\n",
       "      <td>0.244398</td>\n",
       "    </tr>\n",
       "    <tr>\n",
       "      <th>Budget</th>\n",
       "      <td>0.001750</td>\n",
       "      <td>0.039147</td>\n",
       "      <td>0.020959</td>\n",
       "      <td>0.023250</td>\n",
       "      <td>0.079965</td>\n",
       "      <td>1.000000</td>\n",
       "      <td>0.031094</td>\n",
       "      <td>0.037238</td>\n",
       "      <td>0.999660</td>\n",
       "      <td>0.025544</td>\n",
       "      <td>0.004340</td>\n",
       "      <td>-0.001962</td>\n",
       "      <td>-0.002273</td>\n",
       "      <td>-0.002546</td>\n",
       "      <td>0.024651</td>\n",
       "      <td>0.024365</td>\n",
       "    </tr>\n",
       "    <tr>\n",
       "      <th>Box Office Gross</th>\n",
       "      <td>-0.268001</td>\n",
       "      <td>-0.168591</td>\n",
       "      <td>0.147342</td>\n",
       "      <td>0.725980</td>\n",
       "      <td>0.200772</td>\n",
       "      <td>0.031094</td>\n",
       "      <td>1.000000</td>\n",
       "      <td>0.155257</td>\n",
       "      <td>0.034699</td>\n",
       "      <td>0.934399</td>\n",
       "      <td>0.382588</td>\n",
       "      <td>0.094375</td>\n",
       "      <td>0.038339</td>\n",
       "      <td>-0.012846</td>\n",
       "      <td>0.302960</td>\n",
       "      <td>0.382526</td>\n",
       "    </tr>\n",
       "    <tr>\n",
       "      <th>Fantasy</th>\n",
       "      <td>-0.080000</td>\n",
       "      <td>-0.061583</td>\n",
       "      <td>-0.033200</td>\n",
       "      <td>0.113996</td>\n",
       "      <td>0.040201</td>\n",
       "      <td>0.037238</td>\n",
       "      <td>0.155257</td>\n",
       "      <td>1.000000</td>\n",
       "      <td>0.037788</td>\n",
       "      <td>0.148491</td>\n",
       "      <td>0.058528</td>\n",
       "      <td>0.001701</td>\n",
       "      <td>-0.003012</td>\n",
       "      <td>-0.007465</td>\n",
       "      <td>0.014033</td>\n",
       "      <td>0.035576</td>\n",
       "    </tr>\n",
       "    <tr>\n",
       "      <th>inflated_budget</th>\n",
       "      <td>0.002404</td>\n",
       "      <td>0.032489</td>\n",
       "      <td>0.021324</td>\n",
       "      <td>0.026752</td>\n",
       "      <td>0.082049</td>\n",
       "      <td>0.999660</td>\n",
       "      <td>0.034699</td>\n",
       "      <td>0.037788</td>\n",
       "      <td>1.000000</td>\n",
       "      <td>0.030865</td>\n",
       "      <td>0.008462</td>\n",
       "      <td>-0.000835</td>\n",
       "      <td>-0.002230</td>\n",
       "      <td>-0.002683</td>\n",
       "      <td>0.025175</td>\n",
       "      <td>0.024916</td>\n",
       "    </tr>\n",
       "    <tr>\n",
       "      <th>inflated_gross</th>\n",
       "      <td>-0.225486</td>\n",
       "      <td>-0.206423</td>\n",
       "      <td>0.151065</td>\n",
       "      <td>0.695043</td>\n",
       "      <td>0.194657</td>\n",
       "      <td>0.025544</td>\n",
       "      <td>0.934399</td>\n",
       "      <td>0.148491</td>\n",
       "      <td>0.030865</td>\n",
       "      <td>1.000000</td>\n",
       "      <td>0.422718</td>\n",
       "      <td>0.087880</td>\n",
       "      <td>0.029619</td>\n",
       "      <td>-0.012409</td>\n",
       "      <td>0.289422</td>\n",
       "      <td>0.339814</td>\n",
       "    </tr>\n",
       "    <tr>\n",
       "      <th>oscar</th>\n",
       "      <td>-0.092204</td>\n",
       "      <td>-0.152365</td>\n",
       "      <td>0.276775</td>\n",
       "      <td>0.489419</td>\n",
       "      <td>0.220057</td>\n",
       "      <td>0.004340</td>\n",
       "      <td>0.382588</td>\n",
       "      <td>0.058528</td>\n",
       "      <td>0.008462</td>\n",
       "      <td>0.422718</td>\n",
       "      <td>1.000000</td>\n",
       "      <td>-0.044844</td>\n",
       "      <td>-0.029144</td>\n",
       "      <td>-0.009300</td>\n",
       "      <td>0.637689</td>\n",
       "      <td>0.657371</td>\n",
       "    </tr>\n",
       "    <tr>\n",
       "      <th>golden</th>\n",
       "      <td>-0.047377</td>\n",
       "      <td>-0.079060</td>\n",
       "      <td>0.088155</td>\n",
       "      <td>0.101294</td>\n",
       "      <td>0.049279</td>\n",
       "      <td>-0.001962</td>\n",
       "      <td>0.094375</td>\n",
       "      <td>0.001701</td>\n",
       "      <td>-0.000835</td>\n",
       "      <td>0.087880</td>\n",
       "      <td>-0.044844</td>\n",
       "      <td>1.000000</td>\n",
       "      <td>-0.015787</td>\n",
       "      <td>-0.005038</td>\n",
       "      <td>0.027677</td>\n",
       "      <td>0.065275</td>\n",
       "    </tr>\n",
       "    <tr>\n",
       "      <th>bafta</th>\n",
       "      <td>0.004082</td>\n",
       "      <td>-0.005772</td>\n",
       "      <td>0.075972</td>\n",
       "      <td>0.040138</td>\n",
       "      <td>0.021532</td>\n",
       "      <td>-0.002273</td>\n",
       "      <td>0.038339</td>\n",
       "      <td>-0.003012</td>\n",
       "      <td>-0.002230</td>\n",
       "      <td>0.029619</td>\n",
       "      <td>-0.029144</td>\n",
       "      <td>-0.015787</td>\n",
       "      <td>1.000000</td>\n",
       "      <td>-0.003274</td>\n",
       "      <td>0.045480</td>\n",
       "      <td>0.067776</td>\n",
       "    </tr>\n",
       "    <tr>\n",
       "      <th>primetime</th>\n",
       "      <td>0.006909</td>\n",
       "      <td>0.012027</td>\n",
       "      <td>0.033604</td>\n",
       "      <td>-0.013306</td>\n",
       "      <td>-0.005858</td>\n",
       "      <td>-0.002546</td>\n",
       "      <td>-0.012846</td>\n",
       "      <td>-0.007465</td>\n",
       "      <td>-0.002683</td>\n",
       "      <td>-0.012409</td>\n",
       "      <td>-0.009300</td>\n",
       "      <td>-0.005038</td>\n",
       "      <td>-0.003274</td>\n",
       "      <td>1.000000</td>\n",
       "      <td>-0.001675</td>\n",
       "      <td>0.003714</td>\n",
       "    </tr>\n",
       "    <tr>\n",
       "      <th>win</th>\n",
       "      <td>-0.069090</td>\n",
       "      <td>-0.066928</td>\n",
       "      <td>0.289233</td>\n",
       "      <td>0.508064</td>\n",
       "      <td>0.206707</td>\n",
       "      <td>0.024651</td>\n",
       "      <td>0.302960</td>\n",
       "      <td>0.014033</td>\n",
       "      <td>0.025175</td>\n",
       "      <td>0.289422</td>\n",
       "      <td>0.637689</td>\n",
       "      <td>0.027677</td>\n",
       "      <td>0.045480</td>\n",
       "      <td>-0.001675</td>\n",
       "      <td>1.000000</td>\n",
       "      <td>0.841883</td>\n",
       "    </tr>\n",
       "    <tr>\n",
       "      <th>nomination</th>\n",
       "      <td>-0.138823</td>\n",
       "      <td>-0.072737</td>\n",
       "      <td>0.302924</td>\n",
       "      <td>0.574982</td>\n",
       "      <td>0.244398</td>\n",
       "      <td>0.024365</td>\n",
       "      <td>0.382526</td>\n",
       "      <td>0.035576</td>\n",
       "      <td>0.024916</td>\n",
       "      <td>0.339814</td>\n",
       "      <td>0.657371</td>\n",
       "      <td>0.065275</td>\n",
       "      <td>0.067776</td>\n",
       "      <td>0.003714</td>\n",
       "      <td>0.841883</td>\n",
       "      <td>1.000000</td>\n",
       "    </tr>\n",
       "  </tbody>\n",
       "</table>\n",
       "</div>"
      ],
      "text/plain": [
       "                  Unnamed: 0    imdbid  imdb_rating  imdb_votes   runtime  \\\n",
       "Unnamed: 0          1.000000 -0.071191    -0.018152   -0.232923 -0.056851   \n",
       "imdbid             -0.071191  1.000000     0.039799   -0.212204  0.013980   \n",
       "imdb_rating        -0.018152  0.039799     1.000000    0.276402  0.177206   \n",
       "imdb_votes         -0.232923 -0.212204     0.276402    1.000000  0.266539   \n",
       "runtime            -0.056851  0.013980     0.177206    0.266539  1.000000   \n",
       "Budget              0.001750  0.039147     0.020959    0.023250  0.079965   \n",
       "Box Office Gross   -0.268001 -0.168591     0.147342    0.725980  0.200772   \n",
       "Fantasy            -0.080000 -0.061583    -0.033200    0.113996  0.040201   \n",
       "inflated_budget     0.002404  0.032489     0.021324    0.026752  0.082049   \n",
       "inflated_gross     -0.225486 -0.206423     0.151065    0.695043  0.194657   \n",
       "oscar              -0.092204 -0.152365     0.276775    0.489419  0.220057   \n",
       "golden             -0.047377 -0.079060     0.088155    0.101294  0.049279   \n",
       "bafta               0.004082 -0.005772     0.075972    0.040138  0.021532   \n",
       "primetime           0.006909  0.012027     0.033604   -0.013306 -0.005858   \n",
       "win                -0.069090 -0.066928     0.289233    0.508064  0.206707   \n",
       "nomination         -0.138823 -0.072737     0.302924    0.574982  0.244398   \n",
       "\n",
       "                    Budget  Box Office Gross   Fantasy  inflated_budget  \\\n",
       "Unnamed: 0        0.001750         -0.268001 -0.080000         0.002404   \n",
       "imdbid            0.039147         -0.168591 -0.061583         0.032489   \n",
       "imdb_rating       0.020959          0.147342 -0.033200         0.021324   \n",
       "imdb_votes        0.023250          0.725980  0.113996         0.026752   \n",
       "runtime           0.079965          0.200772  0.040201         0.082049   \n",
       "Budget            1.000000          0.031094  0.037238         0.999660   \n",
       "Box Office Gross  0.031094          1.000000  0.155257         0.034699   \n",
       "Fantasy           0.037238          0.155257  1.000000         0.037788   \n",
       "inflated_budget   0.999660          0.034699  0.037788         1.000000   \n",
       "inflated_gross    0.025544          0.934399  0.148491         0.030865   \n",
       "oscar             0.004340          0.382588  0.058528         0.008462   \n",
       "golden           -0.001962          0.094375  0.001701        -0.000835   \n",
       "bafta            -0.002273          0.038339 -0.003012        -0.002230   \n",
       "primetime        -0.002546         -0.012846 -0.007465        -0.002683   \n",
       "win               0.024651          0.302960  0.014033         0.025175   \n",
       "nomination        0.024365          0.382526  0.035576         0.024916   \n",
       "\n",
       "                  inflated_gross     oscar    golden     bafta  primetime  \\\n",
       "Unnamed: 0             -0.225486 -0.092204 -0.047377  0.004082   0.006909   \n",
       "imdbid                 -0.206423 -0.152365 -0.079060 -0.005772   0.012027   \n",
       "imdb_rating             0.151065  0.276775  0.088155  0.075972   0.033604   \n",
       "imdb_votes              0.695043  0.489419  0.101294  0.040138  -0.013306   \n",
       "runtime                 0.194657  0.220057  0.049279  0.021532  -0.005858   \n",
       "Budget                  0.025544  0.004340 -0.001962 -0.002273  -0.002546   \n",
       "Box Office Gross        0.934399  0.382588  0.094375  0.038339  -0.012846   \n",
       "Fantasy                 0.148491  0.058528  0.001701 -0.003012  -0.007465   \n",
       "inflated_budget         0.030865  0.008462 -0.000835 -0.002230  -0.002683   \n",
       "inflated_gross          1.000000  0.422718  0.087880  0.029619  -0.012409   \n",
       "oscar                   0.422718  1.000000 -0.044844 -0.029144  -0.009300   \n",
       "golden                  0.087880 -0.044844  1.000000 -0.015787  -0.005038   \n",
       "bafta                   0.029619 -0.029144 -0.015787  1.000000  -0.003274   \n",
       "primetime              -0.012409 -0.009300 -0.005038 -0.003274   1.000000   \n",
       "win                     0.289422  0.637689  0.027677  0.045480  -0.001675   \n",
       "nomination              0.339814  0.657371  0.065275  0.067776   0.003714   \n",
       "\n",
       "                       win  nomination  \n",
       "Unnamed: 0       -0.069090   -0.138823  \n",
       "imdbid           -0.066928   -0.072737  \n",
       "imdb_rating       0.289233    0.302924  \n",
       "imdb_votes        0.508064    0.574982  \n",
       "runtime           0.206707    0.244398  \n",
       "Budget            0.024651    0.024365  \n",
       "Box Office Gross  0.302960    0.382526  \n",
       "Fantasy           0.014033    0.035576  \n",
       "inflated_budget   0.025175    0.024916  \n",
       "inflated_gross    0.289422    0.339814  \n",
       "oscar             0.637689    0.657371  \n",
       "golden            0.027677    0.065275  \n",
       "bafta             0.045480    0.067776  \n",
       "primetime        -0.001675    0.003714  \n",
       "win               1.000000    0.841883  \n",
       "nomination        0.841883    1.000000  "
      ]
     },
     "execution_count": 44,
     "metadata": {},
     "output_type": "execute_result"
    }
   ],
   "source": [
    "zero_index = df[df['inflated_budget']==0].index\n",
    "tmp_df = df.drop(zero_index)\n",
    "tmp_df.corr()"
   ]
  },
  {
   "cell_type": "code",
   "execution_count": 53,
   "metadata": {},
   "outputs": [],
   "source": [
    "def corr_mat(corr):\n",
    "    mask = np.zeros_like(corr, dtype=np.bool)\n",
    "    mask[np.triu_indices_from(mask)] = True\n",
    "    f, ax = plt.subplots(figsize=(11, 9))\n",
    "    cmap = sns.diverging_palette(220, 10, as_cmap=True)\n",
    "    sns.heatmap(corr, mask=mask, cmap=cmap, vmax=.3, center=0,\n",
    "                square=True, linewidths=.5, cbar_kws={\"shrink\": .5})"
   ]
  },
  {
   "cell_type": "code",
   "execution_count": 54,
   "metadata": {},
   "outputs": [
    {
     "data": {
      "image/png": "[encoded data removed]",
      "text/plain": [
       "<Figure size 792x648 with 2 Axes>"
      ]
     },
     "metadata": {},
     "output_type": "display_data"
    }
   ],
   "source": [
    "corr_mat(df.corr())"
   ]
  },
  {
   "cell_type": "code",
   "execution_count": null,
   "metadata": {},
   "outputs": [],
   "source": []
  }
 ],
 "metadata": {
  "kernelspec": {
   "display_name": "Python 3",
   "language": "python",
   "name": "python3"
  },
  "language_info": {
   "codemirror_mode": {
    "name": "ipython",
    "version": 3
   },
   "file_extension": ".py",
   "mimetype": "text/x-python",
   "name": "python",
   "nbconvert_exporter": "python",
   "pygments_lexer": "ipython3",
   "version": "3.7.2"
  }
 },
 "nbformat": 4,
 "nbformat_minor": 2
}
