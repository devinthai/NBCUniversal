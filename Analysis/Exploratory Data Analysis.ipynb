{
 "cells": [
  {
   "cell_type": "markdown",
   "metadata": {},
   "source": [
    "# Exploratory Data Analysis\n",
    "\n",
    "Now that we've cleaned and parsed the data, we can start exploring it and looking for some initial insights."
   ]
  },
  {
   "cell_type": "code",
   "execution_count": 1,
   "metadata": {},
   "outputs": [],
   "source": [
    "import pandas as pd"
   ]
  },
  {
   "cell_type": "markdown",
   "metadata": {},
   "source": [
    "## Data Loading"
   ]
  },
  {
   "cell_type": "code",
   "execution_count": 2,
   "metadata": {},
   "outputs": [],
   "source": [
    "df = pd.read_csv('../Data/parsed_data.csv')"
   ]
  },
  {
   "cell_type": "markdown",
   "metadata": {},
   "source": [
    "We're going to drop the features that we've noted to be difficult to work with, in the future this may change as I learn more."
   ]
  },
  {
   "cell_type": "code",
   "execution_count": 4,
   "metadata": {},
   "outputs": [],
   "source": [
    "drop_features = ['plot', 'metacritic', 'production', 'actors', 'poster', 'director', 'keywords']\n",
    "df = df.drop(drop_features, axis = 1)"
   ]
  },
  {
   "cell_type": "code",
   "execution_count": 5,
   "metadata": {},
   "outputs": [
    {
     "name": "stdout",
     "output_type": "stream",
     "text": [
      "<class 'pandas.core.frame.DataFrame'>\n",
      "RangeIndex: 7372 entries, 0 to 7371\n",
      "Data columns (total 57 columns):\n",
      "Unnamed: 0          7372 non-null int64\n",
      "imdbid              7372 non-null int64\n",
      "title               7372 non-null object\n",
      "imdb_rating         7372 non-null int64\n",
      "dvd_release         5123 non-null object\n",
      "imdb_votes          7372 non-null float64\n",
      "release_date        7372 non-null object\n",
      "runtime             7372 non-null int64\n",
      "Budget              7372 non-null int64\n",
      "Box Office Gross    7372 non-null int64\n",
      "Fantasy             7372 non-null int64\n",
      "Horror              7372 non-null int64\n",
      "Mystery             7372 non-null int64\n",
      "Drama               7372 non-null int64\n",
      "Romance             7372 non-null int64\n",
      "Sci-Fi              7372 non-null int64\n",
      "Comedy              7372 non-null int64\n",
      "Crime               7372 non-null int64\n",
      "Action              7372 non-null int64\n",
      "Adventure           7372 non-null int64\n",
      "Animation           7372 non-null int64\n",
      "Family              7372 non-null int64\n",
      "History             7372 non-null int64\n",
      "Thriller            7372 non-null int64\n",
      "Biography           7372 non-null int64\n",
      "Documentary         7372 non-null int64\n",
      "Music               7372 non-null int64\n",
      "Sport               7372 non-null int64\n",
      "Western             7372 non-null int64\n",
      "Musical             7372 non-null int64\n",
      "War                 7372 non-null int64\n",
      "News                7372 non-null int64\n",
      "Short               7372 non-null int64\n",
      "inflated_budget     7372 non-null int64\n",
      "inflated_gross      7372 non-null int64\n",
      "UNRATED             7372 non-null int64\n",
      "NOT RATED           7372 non-null int64\n",
      "PG                  7372 non-null int64\n",
      "G                   7372 non-null int64\n",
      "TV-PG               7372 non-null int64\n",
      "PG-13               7372 non-null int64\n",
      "R                   7372 non-null int64\n",
      "TV-14               7372 non-null int64\n",
      "TV-MA               7372 non-null int64\n",
      "M                   7372 non-null int64\n",
      "NC-17               7372 non-null int64\n",
      "APPROVED            7372 non-null int64\n",
      "X                   7372 non-null int64\n",
      "NR                  7372 non-null int64\n",
      "TV-G                7372 non-null int64\n",
      "TV-Y                7372 non-null int64\n",
      "oscar               7372 non-null int64\n",
      "golden              7372 non-null int64\n",
      "bafta               7372 non-null int64\n",
      "primetime           7372 non-null int64\n",
      "win                 7372 non-null int64\n",
      "nomination          7372 non-null int64\n",
      "dtypes: float64(1), int64(53), object(3)\n",
      "memory usage: 3.2+ MB\n"
     ]
    }
   ],
   "source": [
    "df.info()"
   ]
  },
  {
   "cell_type": "markdown",
   "metadata": {},
   "source": [
    "Now we have to fix datatypes that we lost in conversion."
   ]
  },
  {
   "cell_type": "code",
   "execution_count": 33,
   "metadata": {},
   "outputs": [],
   "source": [
    "df[df.columns[11:33]] = df[df.columns[11:33]].astype('category')"
   ]
  },
  {
   "cell_type": "code",
   "execution_count": 34,
   "metadata": {},
   "outputs": [],
   "source": [
    "df[df.columns[35:51]] = df[df.columns[35:51]].astype('category')"
   ]
  },
  {
   "cell_type": "code",
   "execution_count": null,
   "metadata": {},
   "outputs": [],
   "source": []
  }
 ],
 "metadata": {
  "kernelspec": {
   "display_name": "Python 3",
   "language": "python",
   "name": "python3"
  },
  "language_info": {
   "codemirror_mode": {
    "name": "ipython",
    "version": 3
   },
   "file_extension": ".py",
   "mimetype": "text/x-python",
   "name": "python",
   "nbconvert_exporter": "python",
   "pygments_lexer": "ipython3",
   "version": "3.7.2"
  }
 },
 "nbformat": 4,
 "nbformat_minor": 2
}
