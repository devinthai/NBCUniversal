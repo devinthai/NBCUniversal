{
 "cells": [
  {
   "cell_type": "markdown",
   "metadata": {},
   "source": [
    "# Data Cleaning"
   ]
  },
  {
   "cell_type": "code",
   "execution_count": 1,
   "metadata": {},
   "outputs": [],
   "source": [
    "import pandas as pd\n",
    "import matplotlib.pyplot as plt\n",
    "%matplotlib inline"
   ]
  },
  {
   "cell_type": "code",
   "execution_count": 2,
   "metadata": {
    "scrolled": true
   },
   "outputs": [
    {
     "data": {
      "text/html": [
       "<div>\n",
       "<style scoped>\n",
       "    .dataframe tbody tr th:only-of-type {\n",
       "        vertical-align: middle;\n",
       "    }\n",
       "\n",
       "    .dataframe tbody tr th {\n",
       "        vertical-align: top;\n",
       "    }\n",
       "\n",
       "    .dataframe thead th {\n",
       "        text-align: right;\n",
       "    }\n",
       "</style>\n",
       "<table border=\"1\" class=\"dataframe\">\n",
       "  <thead>\n",
       "    <tr style=\"text-align: right;\">\n",
       "      <th></th>\n",
       "      <th>imdbid</th>\n",
       "      <th>title</th>\n",
       "      <th>plot</th>\n",
       "      <th>rating</th>\n",
       "      <th>imdb_rating</th>\n",
       "      <th>metacritic</th>\n",
       "      <th>dvd_release</th>\n",
       "      <th>production</th>\n",
       "      <th>actors</th>\n",
       "      <th>imdb_votes</th>\n",
       "      <th>poster</th>\n",
       "      <th>director</th>\n",
       "      <th>release_date</th>\n",
       "      <th>runtime</th>\n",
       "      <th>genre</th>\n",
       "      <th>awards</th>\n",
       "      <th>keywords</th>\n",
       "      <th>Budget</th>\n",
       "      <th>Box Office Gross</th>\n",
       "    </tr>\n",
       "  </thead>\n",
       "  <tbody>\n",
       "    <tr>\n",
       "      <th>0</th>\n",
       "      <td>tt0010323</td>\n",
       "      <td>The Cabinet of Dr. Caligari</td>\n",
       "      <td>Hypnotist Dr. Caligari uses a somnambulist, Ce...</td>\n",
       "      <td>UNRATED</td>\n",
       "      <td>8.1</td>\n",
       "      <td>NaN</td>\n",
       "      <td>15-Oct-97</td>\n",
       "      <td>Rialto Pictures</td>\n",
       "      <td>Werner Krauss, Conrad Veidt, Friedrich Feher, ...</td>\n",
       "      <td>42,583</td>\n",
       "      <td>https://images-na.ssl-images-amazon.com/images...</td>\n",
       "      <td>Robert Wiene</td>\n",
       "      <td>19-Mar-21</td>\n",
       "      <td>67 min</td>\n",
       "      <td>Fantasy, Horror, Mystery</td>\n",
       "      <td>1 nomination.</td>\n",
       "      <td>expressionism|somnambulist|avant-garde|hypnosi...</td>\n",
       "      <td>18000</td>\n",
       "      <td>0</td>\n",
       "    </tr>\n",
       "    <tr>\n",
       "      <th>1</th>\n",
       "      <td>tt0052893</td>\n",
       "      <td>Hiroshima Mon Amour</td>\n",
       "      <td>A French actress filming an anti-war film in H...</td>\n",
       "      <td>NOT RATED</td>\n",
       "      <td>8.0</td>\n",
       "      <td>NaN</td>\n",
       "      <td>24-Jun-03</td>\n",
       "      <td>Rialto Pictures</td>\n",
       "      <td>Emmanuelle Riva, Eiji Okada, Stella Dassas, Pi...</td>\n",
       "      <td>21,154</td>\n",
       "      <td>https://images-na.ssl-images-amazon.com/images...</td>\n",
       "      <td>Alain Resnais</td>\n",
       "      <td>16-May-60</td>\n",
       "      <td>90 min</td>\n",
       "      <td>Drama, Romance</td>\n",
       "      <td>Nominated for 1 Oscar. Another 6 wins &amp; 5 nomi...</td>\n",
       "      <td>memory|atomic-bomb|lovers-separation|impossibl...</td>\n",
       "      <td>88300</td>\n",
       "      <td>0</td>\n",
       "    </tr>\n",
       "    <tr>\n",
       "      <th>2</th>\n",
       "      <td>tt0058898</td>\n",
       "      <td>Alphaville</td>\n",
       "      <td>A U.S. secret agent is sent to the distant spa...</td>\n",
       "      <td>NOT RATED</td>\n",
       "      <td>7.2</td>\n",
       "      <td>NaN</td>\n",
       "      <td>20-Oct-98</td>\n",
       "      <td>Rialto Pictures</td>\n",
       "      <td>Eddie Constantine, Anna Karina, Akim Tamiroff</td>\n",
       "      <td>17,801</td>\n",
       "      <td>https://images-na.ssl-images-amazon.com/images...</td>\n",
       "      <td>Jean-Luc Godard</td>\n",
       "      <td>5-May-65</td>\n",
       "      <td>99 min</td>\n",
       "      <td>Drama, Mystery, Sci-Fi</td>\n",
       "      <td>1 win.</td>\n",
       "      <td>dystopia|french-new-wave|satire|comic-violence...</td>\n",
       "      <td>220000</td>\n",
       "      <td>46585</td>\n",
       "    </tr>\n",
       "    <tr>\n",
       "      <th>3</th>\n",
       "      <td>tt0074252</td>\n",
       "      <td>Ugly, Dirty and Bad</td>\n",
       "      <td>Four generations of a family live crowded toge...</td>\n",
       "      <td>NaN</td>\n",
       "      <td>7.9</td>\n",
       "      <td>NaN</td>\n",
       "      <td>1-Nov-16</td>\n",
       "      <td>Compagnia Cinematografica Champion</td>\n",
       "      <td>Nino Manfredi, Maria Luisa Santella, Francesco...</td>\n",
       "      <td>5,705</td>\n",
       "      <td>https://images-na.ssl-images-amazon.com/images...</td>\n",
       "      <td>Ettore Scola</td>\n",
       "      <td>23-Sep-76</td>\n",
       "      <td>115 min</td>\n",
       "      <td>Comedy, Drama</td>\n",
       "      <td>1 win &amp; 2 nominations.</td>\n",
       "      <td>incest|failed-murder-attempt|poisoned-food|bap...</td>\n",
       "      <td>6590</td>\n",
       "      <td>0</td>\n",
       "    </tr>\n",
       "    <tr>\n",
       "      <th>4</th>\n",
       "      <td>tt0084269</td>\n",
       "      <td>Losing Ground</td>\n",
       "      <td>A comedy-drama about a Black American female p...</td>\n",
       "      <td>NaN</td>\n",
       "      <td>6.3</td>\n",
       "      <td>NaN</td>\n",
       "      <td>NaN</td>\n",
       "      <td>Milestone Film &amp; Video</td>\n",
       "      <td>Billie Allen, Gary Bolling, Clarence Branch Jr...</td>\n",
       "      <td>132</td>\n",
       "      <td>https://images-na.ssl-images-amazon.com/images...</td>\n",
       "      <td>Kathleen Collins</td>\n",
       "      <td>1-Jun-82</td>\n",
       "      <td>86 min</td>\n",
       "      <td>Comedy, Drama</td>\n",
       "      <td>NaN</td>\n",
       "      <td>artist|painter|marriage|black-independent-film...</td>\n",
       "      <td>0</td>\n",
       "      <td>0</td>\n",
       "    </tr>\n",
       "  </tbody>\n",
       "</table>\n",
       "</div>"
      ],
      "text/plain": [
       "      imdbid                        title  \\\n",
       "0  tt0010323  The Cabinet of Dr. Caligari   \n",
       "1  tt0052893          Hiroshima Mon Amour   \n",
       "2  tt0058898                   Alphaville   \n",
       "3  tt0074252          Ugly, Dirty and Bad   \n",
       "4  tt0084269                Losing Ground   \n",
       "\n",
       "                                                plot     rating  imdb_rating  \\\n",
       "0  Hypnotist Dr. Caligari uses a somnambulist, Ce...    UNRATED          8.1   \n",
       "1  A French actress filming an anti-war film in H...  NOT RATED          8.0   \n",
       "2  A U.S. secret agent is sent to the distant spa...  NOT RATED          7.2   \n",
       "3  Four generations of a family live crowded toge...        NaN          7.9   \n",
       "4  A comedy-drama about a Black American female p...        NaN          6.3   \n",
       "\n",
       "   metacritic dvd_release                          production  \\\n",
       "0         NaN   15-Oct-97                     Rialto Pictures   \n",
       "1         NaN   24-Jun-03                     Rialto Pictures   \n",
       "2         NaN   20-Oct-98                     Rialto Pictures   \n",
       "3         NaN    1-Nov-16  Compagnia Cinematografica Champion   \n",
       "4         NaN         NaN              Milestone Film & Video   \n",
       "\n",
       "                                              actors imdb_votes  \\\n",
       "0  Werner Krauss, Conrad Veidt, Friedrich Feher, ...     42,583   \n",
       "1  Emmanuelle Riva, Eiji Okada, Stella Dassas, Pi...     21,154   \n",
       "2      Eddie Constantine, Anna Karina, Akim Tamiroff     17,801   \n",
       "3  Nino Manfredi, Maria Luisa Santella, Francesco...      5,705   \n",
       "4  Billie Allen, Gary Bolling, Clarence Branch Jr...        132   \n",
       "\n",
       "                                              poster          director  \\\n",
       "0  https://images-na.ssl-images-amazon.com/images...      Robert Wiene   \n",
       "1  https://images-na.ssl-images-amazon.com/images...     Alain Resnais   \n",
       "2  https://images-na.ssl-images-amazon.com/images...   Jean-Luc Godard   \n",
       "3  https://images-na.ssl-images-amazon.com/images...      Ettore Scola   \n",
       "4  https://images-na.ssl-images-amazon.com/images...  Kathleen Collins   \n",
       "\n",
       "  release_date  runtime                     genre  \\\n",
       "0    19-Mar-21   67 min  Fantasy, Horror, Mystery   \n",
       "1    16-May-60   90 min            Drama, Romance   \n",
       "2     5-May-65   99 min    Drama, Mystery, Sci-Fi   \n",
       "3    23-Sep-76  115 min             Comedy, Drama   \n",
       "4     1-Jun-82   86 min             Comedy, Drama   \n",
       "\n",
       "                                              awards  \\\n",
       "0                                      1 nomination.   \n",
       "1  Nominated for 1 Oscar. Another 6 wins & 5 nomi...   \n",
       "2                                             1 win.   \n",
       "3                             1 win & 2 nominations.   \n",
       "4                                                NaN   \n",
       "\n",
       "                                            keywords  Budget Box Office Gross  \n",
       "0  expressionism|somnambulist|avant-garde|hypnosi...   18000                0  \n",
       "1  memory|atomic-bomb|lovers-separation|impossibl...   88300                0  \n",
       "2  dystopia|french-new-wave|satire|comic-violence...  220000            46585  \n",
       "3  incest|failed-murder-attempt|poisoned-food|bap...    6590                0  \n",
       "4  artist|painter|marriage|black-independent-film...       0                0  "
      ]
     },
     "execution_count": 2,
     "metadata": {},
     "output_type": "execute_result"
    }
   ],
   "source": [
    "data = pd.read_csv('Data/NBCU-dataLaurel.csv')\n",
    "data.head()"
   ]
  },
  {
   "cell_type": "code",
   "execution_count": 3,
   "metadata": {},
   "outputs": [
    {
     "data": {
      "text/plain": [
       "(8468, 19)"
      ]
     },
     "execution_count": 3,
     "metadata": {},
     "output_type": "execute_result"
    }
   ],
   "source": [
    "data.shape"
   ]
  },
  {
   "cell_type": "markdown",
   "metadata": {},
   "source": [
    "These are the variables we have to work with:\n",
    "\n",
    "imdbid: Unique Id used by IMDB to refer to the movie.\n",
    "\n",
    "Title: Title of the movie\n",
    "\n",
    "plot: Movie plot summary\n",
    "\n",
    "rating: MPAA Appropriate audience rating\n",
    "\n",
    "imdb_rating: IMDB's voters' scoring of a movie on a scale from 1-10 (10 being best)\n",
    "\n",
    "metacritic: Metacritic movie score on a scale of 0-100 (100 being best)\n",
    "\n",
    "dvd_release: Movie release date on DVD\n",
    "\n",
    "production: Principle production company\n",
    "\n",
    "actors: Lead Actors\n",
    "\n",
    "imdb_votes: Total votes from IMDB members\n",
    "\n",
    "poster: Movie Poster artwork\n",
    "\n",
    "director: Movie director\n",
    "\n",
    "release_date: Theatrical Release Date\n",
    "\n",
    "runtime: Runtime length of movie in minutes\n",
    "\n",
    "genre: Genre Classification\n",
    "\n",
    "awards: Academy awards & nominations\n",
    "\n",
    "keywords: Keywords associated with the movie\n",
    "\n",
    "budget: Budget spent on movie production, marketing, and distribution\n",
    "\n",
    "box office gross: Box Office Gross Returns as of 9/21/2017"
   ]
  },
  {
   "cell_type": "code",
   "execution_count": 4,
   "metadata": {},
   "outputs": [
    {
     "name": "stdout",
     "output_type": "stream",
     "text": [
      "<class 'pandas.core.frame.DataFrame'>\n",
      "RangeIndex: 8468 entries, 0 to 8467\n",
      "Data columns (total 19 columns):\n",
      "imdbid              8468 non-null object\n",
      "title               8468 non-null object\n",
      "plot                8196 non-null object\n",
      "rating              5252 non-null object\n",
      "imdb_rating         7735 non-null float64\n",
      "metacritic          5079 non-null float64\n",
      "dvd_release         5335 non-null object\n",
      "production          6758 non-null object\n",
      "actors              8153 non-null object\n",
      "imdb_votes          7735 non-null object\n",
      "poster              7967 non-null object\n",
      "director            8390 non-null object\n",
      "release_date        8283 non-null object\n",
      "runtime             7846 non-null object\n",
      "genre               8424 non-null object\n",
      "awards              5242 non-null object\n",
      "keywords            6381 non-null object\n",
      "Budget              8468 non-null object\n",
      "Box Office Gross    8468 non-null object\n",
      "dtypes: float64(2), object(17)\n",
      "memory usage: 1.2+ MB\n"
     ]
    }
   ],
   "source": [
    "data.info()"
   ]
  },
  {
   "cell_type": "markdown",
   "metadata": {},
   "source": [
    "Notice how many of variables are just objects. We're going to have to deal with converting a few of these into useful types.\n",
    "\n",
    "First, we'll start by changing release_date to a datetime-like type."
   ]
  },
  {
   "cell_type": "code",
   "execution_count": 5,
   "metadata": {},
   "outputs": [
    {
     "data": {
      "text/plain": [
       "0    19-Mar-21\n",
       "1    16-May-60\n",
       "2     5-May-65\n",
       "3    23-Sep-76\n",
       "4     1-Jun-82\n",
       "Name: release_date, dtype: object"
      ]
     },
     "execution_count": 5,
     "metadata": {},
     "output_type": "execute_result"
    }
   ],
   "source": [
    "data['release_date'].head()"
   ]
  },
  {
   "cell_type": "code",
   "execution_count": 6,
   "metadata": {},
   "outputs": [
    {
     "data": {
      "text/plain": [
       "(Timestamp('2060-05-16 00:00:00'), '16-May-60')"
      ]
     },
     "execution_count": 6,
     "metadata": {},
     "output_type": "execute_result"
    }
   ],
   "source": [
    "pd.to_datetime(data['release_date'])[1],data['release_date'][1]"
   ]
  },
  {
   "cell_type": "markdown",
   "metadata": {},
   "source": [
    "Then we see that there is an issue with pandas to_datetime function. It converts very old dates back to the 19th century. Perhaps we need to use the datetime package per [this](https://stackoverflow.com/questions/16600548/how-to-parse-string-dates-with-2-digit-year)."
   ]
  },
  {
   "cell_type": "code",
   "execution_count": 7,
   "metadata": {},
   "outputs": [
    {
     "data": {
      "text/plain": [
       "0   1921-03-19\n",
       "1   1960-05-16\n",
       "2   1965-05-05\n",
       "3   1976-09-23\n",
       "4   1982-06-01\n",
       "Name: release_date, dtype: datetime64[ns]"
      ]
     },
     "execution_count": 7,
     "metadata": {},
     "output_type": "execute_result"
    }
   ],
   "source": [
    "import datetime\n",
    "import numpy as np\n",
    "\n",
    "dates = data['release_date']\n",
    "\n",
    "dates = pd.to_datetime(dates)\n",
    "\n",
    "for i in range(len(dates)):\n",
    "    if dates[i].year > 2019:\n",
    "        dates[i] = dates[i].replace(year = dates[i].year-100)\n",
    "\n",
    "dates.head()"
   ]
  },
  {
   "cell_type": "markdown",
   "metadata": {},
   "source": [
    "Then we've found a way to account for Python's default pivot year."
   ]
  },
  {
   "cell_type": "code",
   "execution_count": 8,
   "metadata": {},
   "outputs": [
    {
     "name": "stdout",
     "output_type": "stream",
     "text": [
      "<class 'pandas.core.frame.DataFrame'>\n",
      "RangeIndex: 8468 entries, 0 to 8467\n",
      "Data columns (total 19 columns):\n",
      "imdbid              8468 non-null object\n",
      "title               8468 non-null object\n",
      "plot                8196 non-null object\n",
      "rating              5252 non-null object\n",
      "imdb_rating         7735 non-null float64\n",
      "metacritic          5079 non-null float64\n",
      "dvd_release         5335 non-null object\n",
      "production          6758 non-null object\n",
      "actors              8153 non-null object\n",
      "imdb_votes          7735 non-null object\n",
      "poster              7967 non-null object\n",
      "director            8390 non-null object\n",
      "release_date        8283 non-null datetime64[ns]\n",
      "runtime             7846 non-null object\n",
      "genre               8424 non-null object\n",
      "awards              5242 non-null object\n",
      "keywords            6381 non-null object\n",
      "Budget              8468 non-null object\n",
      "Box Office Gross    8468 non-null object\n",
      "dtypes: datetime64[ns](1), float64(2), object(16)\n",
      "memory usage: 1.2+ MB\n"
     ]
    }
   ],
   "source": [
    "data['release_date']=dates\n",
    "data.info()"
   ]
  },
  {
   "cell_type": "markdown",
   "metadata": {},
   "source": [
    "It seems natural to also do the same for dvd_release."
   ]
  },
  {
   "cell_type": "code",
   "execution_count": 9,
   "metadata": {},
   "outputs": [
    {
     "name": "stdout",
     "output_type": "stream",
     "text": [
      "<class 'pandas.core.frame.DataFrame'>\n",
      "RangeIndex: 8468 entries, 0 to 8467\n",
      "Data columns (total 19 columns):\n",
      "imdbid              8468 non-null object\n",
      "title               8468 non-null object\n",
      "plot                8196 non-null object\n",
      "rating              5252 non-null object\n",
      "imdb_rating         7735 non-null float64\n",
      "metacritic          5079 non-null float64\n",
      "dvd_release         5335 non-null datetime64[ns]\n",
      "production          6758 non-null object\n",
      "actors              8153 non-null object\n",
      "imdb_votes          7735 non-null object\n",
      "poster              7967 non-null object\n",
      "director            8390 non-null object\n",
      "release_date        8283 non-null datetime64[ns]\n",
      "runtime             7846 non-null object\n",
      "genre               8424 non-null object\n",
      "awards              5242 non-null object\n",
      "keywords            6381 non-null object\n",
      "Budget              8468 non-null object\n",
      "Box Office Gross    8468 non-null object\n",
      "dtypes: datetime64[ns](2), float64(2), object(15)\n",
      "memory usage: 1.2+ MB\n"
     ]
    }
   ],
   "source": [
    "dates = data['dvd_release']\n",
    "\n",
    "dates = pd.to_datetime(dates)\n",
    "\n",
    "for i in range(len(dates)):\n",
    "    if dates[i].year > 2019:\n",
    "        dates[i] = dates[i].replace(year = dates[i].year-100)\n",
    "\n",
    "data['dvd_release'] = dates\n",
    "data.info()"
   ]
  },
  {
   "cell_type": "markdown",
   "metadata": {},
   "source": [
    "Next, we have several important numerical variables that are currenly in object types. First, we'll work with imdb_votes."
   ]
  },
  {
   "cell_type": "code",
   "execution_count": 10,
   "metadata": {},
   "outputs": [
    {
     "data": {
      "text/plain": [
       "0    42,583\n",
       "1    21,154\n",
       "2    17,801\n",
       "3     5,705\n",
       "4       132\n",
       "Name: imdb_votes, dtype: object"
      ]
     },
     "execution_count": 10,
     "metadata": {},
     "output_type": "execute_result"
    }
   ],
   "source": [
    "data['imdb_votes'].head()"
   ]
  },
  {
   "cell_type": "markdown",
   "metadata": {},
   "source": [
    "So we need to convert imdb_votes to integers. Since there are commas in each number, we cannot simply tell pandas to treat each entry as an integer via the .astype() function. We'll first have to replace each comma with a blank, then apply the int() function. We also have to take care to ignore all of the missing values from imdb_votes as we will be dealing with those later."
   ]
  },
  {
   "cell_type": "code",
   "execution_count": 11,
   "metadata": {},
   "outputs": [
    {
     "name": "stderr",
     "output_type": "stream",
     "text": [
      "/usr/local/lib/python3.7/site-packages/ipykernel_launcher.py:4: SettingWithCopyWarning: \n",
      "A value is trying to be set on a copy of a slice from a DataFrame\n",
      "\n",
      "See the caveats in the documentation: http://pandas.pydata.org/pandas-docs/stable/indexing.html#indexing-view-versus-copy\n",
      "  after removing the cwd from sys.path.\n"
     ]
    },
    {
     "data": {
      "text/plain": [
       "0    42583\n",
       "1    21154\n",
       "2    17801\n",
       "3     5705\n",
       "4      132\n",
       "Name: imdb_votes, dtype: object"
      ]
     },
     "execution_count": 11,
     "metadata": {},
     "output_type": "execute_result"
    }
   ],
   "source": [
    "votes = data['imdb_votes']\n",
    "votes_parsed = votes[votes.str.find(',')>0].apply(lambda x: x.replace(',',''))\n",
    "for i in votes_parsed.index:\n",
    "    votes[i] = votes_parsed[i]\n",
    "votes.head()"
   ]
  },
  {
   "cell_type": "markdown",
   "metadata": {},
   "source": [
    "Then, we've successfully removed all of the commas. Let's confirm that we didn't lose any datapoints along the way."
   ]
  },
  {
   "cell_type": "code",
   "execution_count": 12,
   "metadata": {},
   "outputs": [
    {
     "data": {
      "text/plain": [
       "[8468, 8468]"
      ]
     },
     "execution_count": 12,
     "metadata": {},
     "output_type": "execute_result"
    }
   ],
   "source": [
    "[len(votes), len(data['imdb_votes'])]"
   ]
  },
  {
   "cell_type": "markdown",
   "metadata": {},
   "source": [
    "In order to convert to int, we have to find a way to work around missing values. Let's replace all the missing values with -1 and then convert them back to NaN after conversion."
   ]
  },
  {
   "cell_type": "code",
   "execution_count": 13,
   "metadata": {},
   "outputs": [
    {
     "data": {
      "text/plain": [
       "True"
      ]
     },
     "execution_count": 13,
     "metadata": {},
     "output_type": "execute_result"
    }
   ],
   "source": [
    "import numpy as np\n",
    "\n",
    "votes_int = votes.fillna(-1).astype('int')\n",
    "votes_int[votes_int==-1] = np.nan\n",
    "votes_int.isna().sum() == votes.isna().sum()"
   ]
  },
  {
   "cell_type": "markdown",
   "metadata": {},
   "source": [
    "Then we see that we've successfully preserved the NaN cases."
   ]
  },
  {
   "cell_type": "code",
   "execution_count": 14,
   "metadata": {},
   "outputs": [
    {
     "name": "stdout",
     "output_type": "stream",
     "text": [
      "<class 'pandas.core.frame.DataFrame'>\n",
      "RangeIndex: 8468 entries, 0 to 8467\n",
      "Data columns (total 19 columns):\n",
      "imdbid              8468 non-null object\n",
      "title               8468 non-null object\n",
      "plot                8196 non-null object\n",
      "rating              5252 non-null object\n",
      "imdb_rating         7735 non-null float64\n",
      "metacritic          5079 non-null float64\n",
      "dvd_release         5335 non-null datetime64[ns]\n",
      "production          6758 non-null object\n",
      "actors              8153 non-null object\n",
      "imdb_votes          7735 non-null float64\n",
      "poster              7967 non-null object\n",
      "director            8390 non-null object\n",
      "release_date        8283 non-null datetime64[ns]\n",
      "runtime             7846 non-null object\n",
      "genre               8424 non-null object\n",
      "awards              5242 non-null object\n",
      "keywords            6381 non-null object\n",
      "Budget              8468 non-null object\n",
      "Box Office Gross    8468 non-null object\n",
      "dtypes: datetime64[ns](2), float64(3), object(14)\n",
      "memory usage: 1.2+ MB\n"
     ]
    }
   ],
   "source": [
    "data['imdb_votes'] = votes_int\n",
    "data.info()"
   ]
  },
  {
   "cell_type": "markdown",
   "metadata": {},
   "source": [
    "Now we have to deal with 'Budget' and 'Box Office Gross' in a similar manner."
   ]
  },
  {
   "cell_type": "code",
   "execution_count": 15,
   "metadata": {},
   "outputs": [
    {
     "data": {
      "text/html": [
       "<div>\n",
       "<style scoped>\n",
       "    .dataframe tbody tr th:only-of-type {\n",
       "        vertical-align: middle;\n",
       "    }\n",
       "\n",
       "    .dataframe tbody tr th {\n",
       "        vertical-align: top;\n",
       "    }\n",
       "\n",
       "    .dataframe thead th {\n",
       "        text-align: right;\n",
       "    }\n",
       "</style>\n",
       "<table border=\"1\" class=\"dataframe\">\n",
       "  <thead>\n",
       "    <tr style=\"text-align: right;\">\n",
       "      <th></th>\n",
       "      <th>Budget</th>\n",
       "      <th>Box Office Gross</th>\n",
       "    </tr>\n",
       "  </thead>\n",
       "  <tbody>\n",
       "    <tr>\n",
       "      <th>0</th>\n",
       "      <td>18000</td>\n",
       "      <td>0</td>\n",
       "    </tr>\n",
       "    <tr>\n",
       "      <th>1</th>\n",
       "      <td>88300</td>\n",
       "      <td>0</td>\n",
       "    </tr>\n",
       "    <tr>\n",
       "      <th>2</th>\n",
       "      <td>220000</td>\n",
       "      <td>46585</td>\n",
       "    </tr>\n",
       "    <tr>\n",
       "      <th>3</th>\n",
       "      <td>6590</td>\n",
       "      <td>0</td>\n",
       "    </tr>\n",
       "    <tr>\n",
       "      <th>4</th>\n",
       "      <td>0</td>\n",
       "      <td>0</td>\n",
       "    </tr>\n",
       "  </tbody>\n",
       "</table>\n",
       "</div>"
      ],
      "text/plain": [
       "   Budget Box Office Gross\n",
       "0   18000                0\n",
       "1   88300                0\n",
       "2  220000            46585\n",
       "3    6590                0\n",
       "4       0                0"
      ]
     },
     "execution_count": 15,
     "metadata": {},
     "output_type": "execute_result"
    }
   ],
   "source": [
    "data[['Budget', 'Box Office Gross']].head()"
   ]
  },
  {
   "cell_type": "markdown",
   "metadata": {},
   "source": [
    "Looks like we don't have to worry about any commas in 'Budget' or in 'Box Office Gross', so the conversions will be much simplier. Upon further analysis, it turns out that there are entries that are in Euros instead of USD. We will have to parse out the 'EU' and then convert that number to USD."
   ]
  },
  {
   "cell_type": "code",
   "execution_count": 16,
   "metadata": {},
   "outputs": [
    {
     "data": {
      "text/html": [
       "<div>\n",
       "<style scoped>\n",
       "    .dataframe tbody tr th:only-of-type {\n",
       "        vertical-align: middle;\n",
       "    }\n",
       "\n",
       "    .dataframe tbody tr th {\n",
       "        vertical-align: top;\n",
       "    }\n",
       "\n",
       "    .dataframe thead th {\n",
       "        text-align: right;\n",
       "    }\n",
       "</style>\n",
       "<table border=\"1\" class=\"dataframe\">\n",
       "  <thead>\n",
       "    <tr style=\"text-align: right;\">\n",
       "      <th></th>\n",
       "      <th>imdbid</th>\n",
       "      <th>title</th>\n",
       "      <th>plot</th>\n",
       "      <th>rating</th>\n",
       "      <th>imdb_rating</th>\n",
       "      <th>metacritic</th>\n",
       "      <th>dvd_release</th>\n",
       "      <th>production</th>\n",
       "      <th>actors</th>\n",
       "      <th>imdb_votes</th>\n",
       "      <th>poster</th>\n",
       "      <th>director</th>\n",
       "      <th>release_date</th>\n",
       "      <th>runtime</th>\n",
       "      <th>genre</th>\n",
       "      <th>awards</th>\n",
       "      <th>keywords</th>\n",
       "      <th>Budget</th>\n",
       "      <th>Box Office Gross</th>\n",
       "    </tr>\n",
       "  </thead>\n",
       "  <tbody>\n",
       "    <tr>\n",
       "      <th>2866</th>\n",
       "      <td>tt4538016</td>\n",
       "      <td>Unless</td>\n",
       "      <td>A writer struggles with her daughter's decisio...</td>\n",
       "      <td>NaN</td>\n",
       "      <td>5.8</td>\n",
       "      <td>NaN</td>\n",
       "      <td>NaT</td>\n",
       "      <td>NaN</td>\n",
       "      <td>Catherine Keener, Matt Craven, Hannah Gross, C...</td>\n",
       "      <td>32.0</td>\n",
       "      <td>https://images-na.ssl-images-amazon.com/images...</td>\n",
       "      <td>Alan Gilsenan</td>\n",
       "      <td>2016-09-11</td>\n",
       "      <td>90 min</td>\n",
       "      <td>Drama</td>\n",
       "      <td>1 nomination.</td>\n",
       "      <td>NaN</td>\n",
       "      <td>EU 3,973,431</td>\n",
       "      <td>0</td>\n",
       "    </tr>\n",
       "  </tbody>\n",
       "</table>\n",
       "</div>"
      ],
      "text/plain": [
       "         imdbid   title                                               plot  \\\n",
       "2866  tt4538016  Unless  A writer struggles with her daughter's decisio...   \n",
       "\n",
       "     rating  imdb_rating  metacritic dvd_release production  \\\n",
       "2866    NaN          5.8         NaN         NaT        NaN   \n",
       "\n",
       "                                                 actors  imdb_votes  \\\n",
       "2866  Catherine Keener, Matt Craven, Hannah Gross, C...        32.0   \n",
       "\n",
       "                                                 poster       director  \\\n",
       "2866  https://images-na.ssl-images-amazon.com/images...  Alan Gilsenan   \n",
       "\n",
       "     release_date runtime  genre         awards keywords         Budget  \\\n",
       "2866   2016-09-11  90 min  Drama  1 nomination.      NaN  EU 3,973,431    \n",
       "\n",
       "     Box Office Gross  \n",
       "2866                0  "
      ]
     },
     "execution_count": 16,
     "metadata": {},
     "output_type": "execute_result"
    }
   ],
   "source": [
    "budget = data['Budget'].astype('str')\n",
    "data[budget.str.contains('EU')]"
   ]
  },
  {
   "cell_type": "markdown",
   "metadata": {},
   "source": [
    "Since there's only 1 value containing EU, it's simple enough to just assign the proper value to it. This movie was released in 2016, so we'll have to use the 2016 Euro to USD exchange rate (1.11), found [here](https://www.statista.com/statistics/412794/euro-to-u-s-dollar-annual-average-exchange-rate/)."
   ]
  },
  {
   "cell_type": "code",
   "execution_count": 17,
   "metadata": {},
   "outputs": [
    {
     "data": {
      "text/plain": [
       "4410508.41"
      ]
     },
     "execution_count": 17,
     "metadata": {},
     "output_type": "execute_result"
    }
   ],
   "source": [
    "3973431 * 1.11"
   ]
  },
  {
   "cell_type": "code",
   "execution_count": 18,
   "metadata": {},
   "outputs": [
    {
     "data": {
      "text/plain": [
       "0"
      ]
     },
     "execution_count": 18,
     "metadata": {},
     "output_type": "execute_result"
    }
   ],
   "source": [
    "budget[budget.str.contains('EU')] = '4410508'\n",
    "budget.str.contains('EU').sum()"
   ]
  },
  {
   "cell_type": "markdown",
   "metadata": {},
   "source": [
    "Once we try to apply .astype('int'), we encounter another case: 'CAD'."
   ]
  },
  {
   "cell_type": "code",
   "execution_count": 19,
   "metadata": {},
   "outputs": [
    {
     "data": {
      "text/html": [
       "<div>\n",
       "<style scoped>\n",
       "    .dataframe tbody tr th:only-of-type {\n",
       "        vertical-align: middle;\n",
       "    }\n",
       "\n",
       "    .dataframe tbody tr th {\n",
       "        vertical-align: top;\n",
       "    }\n",
       "\n",
       "    .dataframe thead th {\n",
       "        text-align: right;\n",
       "    }\n",
       "</style>\n",
       "<table border=\"1\" class=\"dataframe\">\n",
       "  <thead>\n",
       "    <tr style=\"text-align: right;\">\n",
       "      <th></th>\n",
       "      <th>imdbid</th>\n",
       "      <th>title</th>\n",
       "      <th>plot</th>\n",
       "      <th>rating</th>\n",
       "      <th>imdb_rating</th>\n",
       "      <th>metacritic</th>\n",
       "      <th>dvd_release</th>\n",
       "      <th>production</th>\n",
       "      <th>actors</th>\n",
       "      <th>imdb_votes</th>\n",
       "      <th>poster</th>\n",
       "      <th>director</th>\n",
       "      <th>release_date</th>\n",
       "      <th>runtime</th>\n",
       "      <th>genre</th>\n",
       "      <th>awards</th>\n",
       "      <th>keywords</th>\n",
       "      <th>Budget</th>\n",
       "      <th>Box Office Gross</th>\n",
       "    </tr>\n",
       "  </thead>\n",
       "  <tbody>\n",
       "    <tr>\n",
       "      <th>5203</th>\n",
       "      <td>tt1092082</td>\n",
       "      <td>Passchendaele</td>\n",
       "      <td>The lives of a troubled veteran, his nurse gir...</td>\n",
       "      <td>R</td>\n",
       "      <td>6.5</td>\n",
       "      <td>NaN</td>\n",
       "      <td>2009-11-03</td>\n",
       "      <td>Alliance Atlantis</td>\n",
       "      <td>Paul Gross, Caroline Dhavernas, Joe Dinicol, M...</td>\n",
       "      <td>7246.0</td>\n",
       "      <td>https://images-na.ssl-images-amazon.com/images...</td>\n",
       "      <td>Paul Gross</td>\n",
       "      <td>2008-10-17</td>\n",
       "      <td>114 min</td>\n",
       "      <td>Drama, History, Romance</td>\n",
       "      <td>11 wins &amp; 5 nominations.</td>\n",
       "      <td>battle|veteran|canadian-armed-forces|canadian-...</td>\n",
       "      <td>CAD 20,000,000</td>\n",
       "      <td>0</td>\n",
       "    </tr>\n",
       "    <tr>\n",
       "      <th>5764</th>\n",
       "      <td>tt1376195</td>\n",
       "      <td>Gunless</td>\n",
       "      <td>A hardened American gunslinger is repeatedly t...</td>\n",
       "      <td>NaN</td>\n",
       "      <td>6.5</td>\n",
       "      <td>NaN</td>\n",
       "      <td>2011-08-08</td>\n",
       "      <td>Cinema Eopch</td>\n",
       "      <td>Paul Gross, Sienna Guillory, Dustin Milligan, ...</td>\n",
       "      <td>3157.0</td>\n",
       "      <td>https://images-na.ssl-images-amazon.com/images...</td>\n",
       "      <td>William Phillips</td>\n",
       "      <td>2010-04-30</td>\n",
       "      <td>89 min</td>\n",
       "      <td>Action, Comedy, Drama</td>\n",
       "      <td>5 wins &amp; 5 nominations.</td>\n",
       "      <td>gunslinger|duel|wild-west|bounty-hunter|blacks...</td>\n",
       "      <td>CAD 10,000,000</td>\n",
       "      <td>0</td>\n",
       "    </tr>\n",
       "  </tbody>\n",
       "</table>\n",
       "</div>"
      ],
      "text/plain": [
       "         imdbid          title  \\\n",
       "5203  tt1092082  Passchendaele   \n",
       "5764  tt1376195        Gunless   \n",
       "\n",
       "                                                   plot rating  imdb_rating  \\\n",
       "5203  The lives of a troubled veteran, his nurse gir...      R          6.5   \n",
       "5764  A hardened American gunslinger is repeatedly t...    NaN          6.5   \n",
       "\n",
       "      metacritic dvd_release         production  \\\n",
       "5203         NaN  2009-11-03  Alliance Atlantis   \n",
       "5764         NaN  2011-08-08       Cinema Eopch   \n",
       "\n",
       "                                                 actors  imdb_votes  \\\n",
       "5203  Paul Gross, Caroline Dhavernas, Joe Dinicol, M...      7246.0   \n",
       "5764  Paul Gross, Sienna Guillory, Dustin Milligan, ...      3157.0   \n",
       "\n",
       "                                                 poster          director  \\\n",
       "5203  https://images-na.ssl-images-amazon.com/images...        Paul Gross   \n",
       "5764  https://images-na.ssl-images-amazon.com/images...  William Phillips   \n",
       "\n",
       "     release_date  runtime                    genre                    awards  \\\n",
       "5203   2008-10-17  114 min  Drama, History, Romance  11 wins & 5 nominations.   \n",
       "5764   2010-04-30   89 min    Action, Comedy, Drama   5 wins & 5 nominations.   \n",
       "\n",
       "                                               keywords          Budget  \\\n",
       "5203  battle|veteran|canadian-armed-forces|canadian-...  CAD 20,000,000   \n",
       "5764  gunslinger|duel|wild-west|bounty-hunter|blacks...  CAD 10,000,000   \n",
       "\n",
       "     Box Office Gross  \n",
       "5203                0  \n",
       "5764                0  "
      ]
     },
     "execution_count": 19,
     "metadata": {},
     "output_type": "execute_result"
    }
   ],
   "source": [
    "data[budget.str.contains('CAD')]"
   ]
  },
  {
   "cell_type": "markdown",
   "metadata": {},
   "source": [
    "Once again, it's simple enough to just change these two values by hand since there are only 2. CAD to USD exchange rate found [here](https://fxtop.com/en/historical-currency-converter.php?A=100&C1=USD&C2=USD&DD=01&MM=01&YYYY=2008&B=1&P=&I=1&btnOK=Go%21)."
   ]
  },
  {
   "cell_type": "code",
   "execution_count": 20,
   "metadata": {},
   "outputs": [
    {
     "data": {
      "text/plain": [
       "[19630460.0, 10501180.000000002]"
      ]
     },
     "execution_count": 20,
     "metadata": {},
     "output_type": "execute_result"
    }
   ],
   "source": [
    "[20000000*0.981523, 10000000*1.050118]"
   ]
  },
  {
   "cell_type": "code",
   "execution_count": 21,
   "metadata": {},
   "outputs": [],
   "source": [
    "budget[5203] = '19630460'\n",
    "budget[5764] = '10501180'"
   ]
  },
  {
   "cell_type": "code",
   "execution_count": 22,
   "metadata": {},
   "outputs": [
    {
     "data": {
      "text/plain": [
       "0     18000\n",
       "1     88300\n",
       "2    220000\n",
       "3      6590\n",
       "4         0\n",
       "Name: Budget, dtype: int64"
      ]
     },
     "execution_count": 22,
     "metadata": {},
     "output_type": "execute_result"
    }
   ],
   "source": [
    "budget.astype('int').head()"
   ]
  },
  {
   "cell_type": "markdown",
   "metadata": {},
   "source": [
    "There aren't anymore errors when converting to int. Then we've finished parsing budget."
   ]
  },
  {
   "cell_type": "code",
   "execution_count": 23,
   "metadata": {},
   "outputs": [
    {
     "name": "stdout",
     "output_type": "stream",
     "text": [
      "<class 'pandas.core.frame.DataFrame'>\n",
      "RangeIndex: 8468 entries, 0 to 8467\n",
      "Data columns (total 19 columns):\n",
      "imdbid              8468 non-null object\n",
      "title               8468 non-null object\n",
      "plot                8196 non-null object\n",
      "rating              5252 non-null object\n",
      "imdb_rating         7735 non-null float64\n",
      "metacritic          5079 non-null float64\n",
      "dvd_release         5335 non-null datetime64[ns]\n",
      "production          6758 non-null object\n",
      "actors              8153 non-null object\n",
      "imdb_votes          7735 non-null float64\n",
      "poster              7967 non-null object\n",
      "director            8390 non-null object\n",
      "release_date        8283 non-null datetime64[ns]\n",
      "runtime             7846 non-null object\n",
      "genre               8424 non-null object\n",
      "awards              5242 non-null object\n",
      "keywords            6381 non-null object\n",
      "Budget              8468 non-null int64\n",
      "Box Office Gross    8468 non-null object\n",
      "dtypes: datetime64[ns](2), float64(3), int64(1), object(13)\n",
      "memory usage: 1.2+ MB\n"
     ]
    }
   ],
   "source": [
    "budget = budget.astype('int')\n",
    "data['Budget'] = budget\n",
    "data.info()"
   ]
  },
  {
   "cell_type": "code",
   "execution_count": 24,
   "metadata": {},
   "outputs": [
    {
     "data": {
      "text/plain": [
       "0        0\n",
       "1        0\n",
       "2    46585\n",
       "3        0\n",
       "4        0\n",
       "Name: Box Office Gross, dtype: object"
      ]
     },
     "execution_count": 24,
     "metadata": {},
     "output_type": "execute_result"
    }
   ],
   "source": [
    "data['Box Office Gross'].head()"
   ]
  },
  {
   "cell_type": "markdown",
   "metadata": {},
   "source": [
    "Looks like Box Office Gross can be treated similary to Budget."
   ]
  },
  {
   "cell_type": "code",
   "execution_count": 25,
   "metadata": {},
   "outputs": [
    {
     "data": {
      "text/html": [
       "<div>\n",
       "<style scoped>\n",
       "    .dataframe tbody tr th:only-of-type {\n",
       "        vertical-align: middle;\n",
       "    }\n",
       "\n",
       "    .dataframe tbody tr th {\n",
       "        vertical-align: top;\n",
       "    }\n",
       "\n",
       "    .dataframe thead th {\n",
       "        text-align: right;\n",
       "    }\n",
       "</style>\n",
       "<table border=\"1\" class=\"dataframe\">\n",
       "  <thead>\n",
       "    <tr style=\"text-align: right;\">\n",
       "      <th></th>\n",
       "      <th>imdbid</th>\n",
       "      <th>title</th>\n",
       "      <th>plot</th>\n",
       "      <th>rating</th>\n",
       "      <th>imdb_rating</th>\n",
       "      <th>metacritic</th>\n",
       "      <th>dvd_release</th>\n",
       "      <th>production</th>\n",
       "      <th>actors</th>\n",
       "      <th>imdb_votes</th>\n",
       "      <th>poster</th>\n",
       "      <th>director</th>\n",
       "      <th>release_date</th>\n",
       "      <th>runtime</th>\n",
       "      <th>genre</th>\n",
       "      <th>awards</th>\n",
       "      <th>keywords</th>\n",
       "      <th>Budget</th>\n",
       "      <th>Box Office Gross</th>\n",
       "    </tr>\n",
       "  </thead>\n",
       "  <tbody>\n",
       "    <tr>\n",
       "      <th>139</th>\n",
       "      <td>tt0926084</td>\n",
       "      <td>Harry Potter and the Deathly Hallows: Part 1</td>\n",
       "      <td>As Harry races against time and evil to destro...</td>\n",
       "      <td>PG-13</td>\n",
       "      <td>7.7</td>\n",
       "      <td>65.0</td>\n",
       "      <td>2011-04-15</td>\n",
       "      <td>Warner Bros. Pictures</td>\n",
       "      <td>Bill Nighy, Emma Watson, Richard Griffiths, Ha...</td>\n",
       "      <td>358750.0</td>\n",
       "      <td>https://images-na.ssl-images-amazon.com/images...</td>\n",
       "      <td>David Yates</td>\n",
       "      <td>2010-11-19</td>\n",
       "      <td>146 min</td>\n",
       "      <td>Adventure, Family, Fantasy</td>\n",
       "      <td>Nominated for 2 Oscars. Another 16 wins &amp; 52 n...</td>\n",
       "      <td>immortality|power|mission|race-against-time|ma...</td>\n",
       "      <td>0</td>\n",
       "      <td>GBP150,000,000</td>\n",
       "    </tr>\n",
       "    <tr>\n",
       "      <th>496</th>\n",
       "      <td>tt1527835</td>\n",
       "      <td>Archipelago</td>\n",
       "      <td>Deep fractures within a family dynamic begin t...</td>\n",
       "      <td>NaN</td>\n",
       "      <td>6.1</td>\n",
       "      <td>82.0</td>\n",
       "      <td>2014-11-04</td>\n",
       "      <td>Kino Lorber Films</td>\n",
       "      <td>Christopher Baker, Kate Fahy, Tom Hiddleston, ...</td>\n",
       "      <td>1673.0</td>\n",
       "      <td>https://images-na.ssl-images-amazon.com/images...</td>\n",
       "      <td>Joanna Hogg</td>\n",
       "      <td>2011-03-04</td>\n",
       "      <td>114 min</td>\n",
       "      <td>Drama</td>\n",
       "      <td>6 nominations.</td>\n",
       "      <td>f-rated</td>\n",
       "      <td>0</td>\n",
       "      <td>GBP500,000</td>\n",
       "    </tr>\n",
       "    <tr>\n",
       "      <th>1058</th>\n",
       "      <td>tt2184287</td>\n",
       "      <td>Summer in February</td>\n",
       "      <td>A true tale of love, liberty and scandal among...</td>\n",
       "      <td>NOT RATED</td>\n",
       "      <td>5.6</td>\n",
       "      <td>22.0</td>\n",
       "      <td>2014-08-12</td>\n",
       "      <td>Tribeca Film</td>\n",
       "      <td>Dominic Cooper, Dan Stevens, Jane Cussons, Dap...</td>\n",
       "      <td>3207.0</td>\n",
       "      <td>https://images-na.ssl-images-amazon.com/images...</td>\n",
       "      <td>Christopher Menaul</td>\n",
       "      <td>2014-01-17</td>\n",
       "      <td>100 min</td>\n",
       "      <td>Biography, Drama, Romance</td>\n",
       "      <td>1 win &amp; 2 nominations.</td>\n",
       "      <td>period-drama|artist|coast|love-triangle|aspiri...</td>\n",
       "      <td>0</td>\n",
       "      <td>GBP5,000,000</td>\n",
       "    </tr>\n",
       "    <tr>\n",
       "      <th>1259</th>\n",
       "      <td>tt2375574</td>\n",
       "      <td>A Field in England</td>\n",
       "      <td>Amid the Civil War in 17th-century England, a ...</td>\n",
       "      <td>NOT RATED</td>\n",
       "      <td>6.3</td>\n",
       "      <td>73.0</td>\n",
       "      <td>2014-04-07</td>\n",
       "      <td>Drafthouse Films</td>\n",
       "      <td>Julian Barratt, Peter Ferdinando, Richard Glov...</td>\n",
       "      <td>7826.0</td>\n",
       "      <td>https://images-na.ssl-images-amazon.com/images...</td>\n",
       "      <td>Ben Wheatley</td>\n",
       "      <td>2013-07-05</td>\n",
       "      <td>90 min</td>\n",
       "      <td>Drama, History, Horror</td>\n",
       "      <td>1 win &amp; 8 nominations.</td>\n",
       "      <td>occultism|england|17th-century|magic|psychedel...</td>\n",
       "      <td>0</td>\n",
       "      <td>GBP316,000</td>\n",
       "    </tr>\n",
       "    <tr>\n",
       "      <th>1380</th>\n",
       "      <td>tt2473794</td>\n",
       "      <td>Mr. Turner</td>\n",
       "      <td>An exploration of the last quarter century of ...</td>\n",
       "      <td>R</td>\n",
       "      <td>6.8</td>\n",
       "      <td>94.0</td>\n",
       "      <td>2015-05-05</td>\n",
       "      <td>Sony Pictures Classics</td>\n",
       "      <td>Timothy Spall, Paul Jesson, Dorothy Atkinson, ...</td>\n",
       "      <td>19996.0</td>\n",
       "      <td>https://images-na.ssl-images-amazon.com/images...</td>\n",
       "      <td>Mike Leigh</td>\n",
       "      <td>2014-10-31</td>\n",
       "      <td>150 min</td>\n",
       "      <td>Biography, Drama, History</td>\n",
       "      <td>Nominated for 4 Oscars. Another 19 wins &amp; 61 n...</td>\n",
       "      <td>scrofula|sketching|sunrise|prism|rented-room|p...</td>\n",
       "      <td>0</td>\n",
       "      <td>GBP8,200,000</td>\n",
       "    </tr>\n",
       "  </tbody>\n",
       "</table>\n",
       "</div>"
      ],
      "text/plain": [
       "         imdbid                                         title  \\\n",
       "139   tt0926084  Harry Potter and the Deathly Hallows: Part 1   \n",
       "496   tt1527835                                   Archipelago   \n",
       "1058  tt2184287                            Summer in February   \n",
       "1259  tt2375574                            A Field in England   \n",
       "1380  tt2473794                                    Mr. Turner   \n",
       "\n",
       "                                                   plot     rating  \\\n",
       "139   As Harry races against time and evil to destro...      PG-13   \n",
       "496   Deep fractures within a family dynamic begin t...        NaN   \n",
       "1058  A true tale of love, liberty and scandal among...  NOT RATED   \n",
       "1259  Amid the Civil War in 17th-century England, a ...  NOT RATED   \n",
       "1380  An exploration of the last quarter century of ...          R   \n",
       "\n",
       "      imdb_rating  metacritic dvd_release              production  \\\n",
       "139           7.7        65.0  2011-04-15   Warner Bros. Pictures   \n",
       "496           6.1        82.0  2014-11-04       Kino Lorber Films   \n",
       "1058          5.6        22.0  2014-08-12            Tribeca Film   \n",
       "1259          6.3        73.0  2014-04-07        Drafthouse Films   \n",
       "1380          6.8        94.0  2015-05-05  Sony Pictures Classics   \n",
       "\n",
       "                                                 actors  imdb_votes  \\\n",
       "139   Bill Nighy, Emma Watson, Richard Griffiths, Ha...    358750.0   \n",
       "496   Christopher Baker, Kate Fahy, Tom Hiddleston, ...      1673.0   \n",
       "1058  Dominic Cooper, Dan Stevens, Jane Cussons, Dap...      3207.0   \n",
       "1259  Julian Barratt, Peter Ferdinando, Richard Glov...      7826.0   \n",
       "1380  Timothy Spall, Paul Jesson, Dorothy Atkinson, ...     19996.0   \n",
       "\n",
       "                                                 poster            director  \\\n",
       "139   https://images-na.ssl-images-amazon.com/images...         David Yates   \n",
       "496   https://images-na.ssl-images-amazon.com/images...         Joanna Hogg   \n",
       "1058  https://images-na.ssl-images-amazon.com/images...  Christopher Menaul   \n",
       "1259  https://images-na.ssl-images-amazon.com/images...        Ben Wheatley   \n",
       "1380  https://images-na.ssl-images-amazon.com/images...          Mike Leigh   \n",
       "\n",
       "     release_date  runtime                       genre  \\\n",
       "139    2010-11-19  146 min  Adventure, Family, Fantasy   \n",
       "496    2011-03-04  114 min                       Drama   \n",
       "1058   2014-01-17  100 min   Biography, Drama, Romance   \n",
       "1259   2013-07-05   90 min      Drama, History, Horror   \n",
       "1380   2014-10-31  150 min   Biography, Drama, History   \n",
       "\n",
       "                                                 awards  \\\n",
       "139   Nominated for 2 Oscars. Another 16 wins & 52 n...   \n",
       "496                                      6 nominations.   \n",
       "1058                             1 win & 2 nominations.   \n",
       "1259                             1 win & 8 nominations.   \n",
       "1380  Nominated for 4 Oscars. Another 19 wins & 61 n...   \n",
       "\n",
       "                                               keywords  Budget  \\\n",
       "139   immortality|power|mission|race-against-time|ma...       0   \n",
       "496                                             f-rated       0   \n",
       "1058  period-drama|artist|coast|love-triangle|aspiri...       0   \n",
       "1259  occultism|england|17th-century|magic|psychedel...       0   \n",
       "1380  scrofula|sketching|sunrise|prism|rented-room|p...       0   \n",
       "\n",
       "     Box Office Gross  \n",
       "139    GBP150,000,000  \n",
       "496        GBP500,000  \n",
       "1058     GBP5,000,000  \n",
       "1259       GBP316,000  \n",
       "1380     GBP8,200,000  "
      ]
     },
     "execution_count": 25,
     "metadata": {},
     "output_type": "execute_result"
    }
   ],
   "source": [
    "gross = data['Box Office Gross']\n",
    "data[gross.str.contains('GBP')].head()"
   ]
  },
  {
   "cell_type": "markdown",
   "metadata": {},
   "source": [
    "Note to self: It appears that there are several movies that either have values under Budget, but don't have values under Box Office Gross. It seems reasonable to believe that the reverse is true as well. Remember to fix this while dealing with missing values!\n",
    "\n",
    "There are a lot of values in GBP that we have to convert to USD. Unfortuntely, this means we can't just change them on a case by case basis. We'll have to leverage the [forex_python](https://forex-python.readthedocs.io/en/latest/index.html) package in order to obtain exchange rates."
   ]
  },
  {
   "cell_type": "code",
   "execution_count": 26,
   "metadata": {},
   "outputs": [
    {
     "data": {
      "text/plain": [
       "2976   NaT\n",
       "7612   NaT\n",
       "7764   NaT\n",
       "Name: release_date, dtype: datetime64[ns]"
      ]
     },
     "execution_count": 26,
     "metadata": {},
     "output_type": "execute_result"
    }
   ],
   "source": [
    "from forex_python.converter import CurrencyRates\n",
    "c = CurrencyRates()\n",
    "dates = data[gross.str.contains('GBP')]['release_date']\n",
    "dates.head()\n",
    "dates[dates.isna()]\n",
    "# c.get_rate('GBP', 'USD', date)"
   ]
  },
  {
   "cell_type": "markdown",
   "metadata": {},
   "source": [
    "There are a few movies that don't have release dates. Since there are only three, let's see if we can just manually add these in."
   ]
  },
  {
   "cell_type": "code",
   "execution_count": 27,
   "metadata": {},
   "outputs": [
    {
     "data": {
      "text/plain": [
       "2976           Whisky Galore\n",
       "7612    White Irish Drinkers\n",
       "7764            The Way Back\n",
       "Name: title, dtype: object"
      ]
     },
     "execution_count": 27,
     "metadata": {},
     "output_type": "execute_result"
    }
   ],
   "source": [
    "data['title'][[2976, 7612, 7764]]"
   ]
  },
  {
   "cell_type": "markdown",
   "metadata": {},
   "source": [
    "There are only a few of these in this case, so it'll be easier to handle these case by case."
   ]
  },
  {
   "cell_type": "code",
   "execution_count": 28,
   "metadata": {},
   "outputs": [
    {
     "data": {
      "text/html": [
       "<div>\n",
       "<style scoped>\n",
       "    .dataframe tbody tr th:only-of-type {\n",
       "        vertical-align: middle;\n",
       "    }\n",
       "\n",
       "    .dataframe tbody tr th {\n",
       "        vertical-align: top;\n",
       "    }\n",
       "\n",
       "    .dataframe thead th {\n",
       "        text-align: right;\n",
       "    }\n",
       "</style>\n",
       "<table border=\"1\" class=\"dataframe\">\n",
       "  <thead>\n",
       "    <tr style=\"text-align: right;\">\n",
       "      <th></th>\n",
       "      <th>imdbid</th>\n",
       "      <th>title</th>\n",
       "      <th>plot</th>\n",
       "      <th>rating</th>\n",
       "      <th>imdb_rating</th>\n",
       "      <th>metacritic</th>\n",
       "      <th>dvd_release</th>\n",
       "      <th>production</th>\n",
       "      <th>actors</th>\n",
       "      <th>imdb_votes</th>\n",
       "      <th>poster</th>\n",
       "      <th>director</th>\n",
       "      <th>release_date</th>\n",
       "      <th>runtime</th>\n",
       "      <th>genre</th>\n",
       "      <th>awards</th>\n",
       "      <th>keywords</th>\n",
       "      <th>Budget</th>\n",
       "      <th>Box Office Gross</th>\n",
       "    </tr>\n",
       "  </thead>\n",
       "  <tbody>\n",
       "    <tr>\n",
       "      <th>2976</th>\n",
       "      <td>tt4769214</td>\n",
       "      <td>Whisky Galore</td>\n",
       "      <td>Scottish islanders try to plunder cases of whi...</td>\n",
       "      <td>NaN</td>\n",
       "      <td>NaN</td>\n",
       "      <td>NaN</td>\n",
       "      <td>NaT</td>\n",
       "      <td>NaN</td>\n",
       "      <td>James Cosmo, Ellie Kendrick, Sean Biggerstaff,...</td>\n",
       "      <td>NaN</td>\n",
       "      <td>http://ia.media-imdb.com/images/M/MV5BZTViNjdj...</td>\n",
       "      <td>Gillies MacKinnon</td>\n",
       "      <td>NaT</td>\n",
       "      <td>NaN</td>\n",
       "      <td>Comedy, Romance</td>\n",
       "      <td>NaN</td>\n",
       "      <td>plunder|sinking-ship|world-war-two|telephone-e...</td>\n",
       "      <td>0</td>\n",
       "      <td>GBP5,400,000</td>\n",
       "    </tr>\n",
       "  </tbody>\n",
       "</table>\n",
       "</div>"
      ],
      "text/plain": [
       "         imdbid          title  \\\n",
       "2976  tt4769214  Whisky Galore   \n",
       "\n",
       "                                                   plot rating  imdb_rating  \\\n",
       "2976  Scottish islanders try to plunder cases of whi...    NaN          NaN   \n",
       "\n",
       "      metacritic dvd_release production  \\\n",
       "2976         NaN         NaT        NaN   \n",
       "\n",
       "                                                 actors  imdb_votes  \\\n",
       "2976  James Cosmo, Ellie Kendrick, Sean Biggerstaff,...         NaN   \n",
       "\n",
       "                                                 poster           director  \\\n",
       "2976  http://ia.media-imdb.com/images/M/MV5BZTViNjdj...  Gillies MacKinnon   \n",
       "\n",
       "     release_date runtime            genre awards  \\\n",
       "2976          NaT     NaN  Comedy, Romance    NaN   \n",
       "\n",
       "                                               keywords  Budget  \\\n",
       "2976  plunder|sinking-ship|world-war-two|telephone-e...       0   \n",
       "\n",
       "     Box Office Gross  \n",
       "2976     GBP5,400,000  "
      ]
     },
     "execution_count": 28,
     "metadata": {},
     "output_type": "execute_result"
    }
   ],
   "source": [
    "data[data['title'] == 'Whisky Galore']"
   ]
  },
  {
   "cell_type": "markdown",
   "metadata": {},
   "source": [
    "Needed to look at all of Whiskey Galore's data because Whiskey Galore is actually a remake.\n",
    "\n",
    "[Whiskey Galore](https://www.imdb.com/title/tt4769214/) released on May 12, 2017.\n",
    "\n",
    "[White Irish Drinkers](https://www.imdb.com/title/tt01550524/) released on March 25, 2011.\n",
    "\n",
    "[The Way Back](https://www.imdb.com/title/tt1023114/) released on January 21, 2011."
   ]
  },
  {
   "cell_type": "code",
   "execution_count": 29,
   "metadata": {},
   "outputs": [
    {
     "name": "stderr",
     "output_type": "stream",
     "text": [
      "/usr/local/lib/python3.7/site-packages/ipykernel_launcher.py:1: SettingWithCopyWarning: \n",
      "A value is trying to be set on a copy of a slice from a DataFrame\n",
      "\n",
      "See the caveats in the documentation: http://pandas.pydata.org/pandas-docs/stable/indexing.html#indexing-view-versus-copy\n",
      "  \"\"\"Entry point for launching an IPython kernel.\n",
      "/usr/local/lib/python3.7/site-packages/ipykernel_launcher.py:2: SettingWithCopyWarning: \n",
      "A value is trying to be set on a copy of a slice from a DataFrame\n",
      "\n",
      "See the caveats in the documentation: http://pandas.pydata.org/pandas-docs/stable/indexing.html#indexing-view-versus-copy\n",
      "  \n",
      "/usr/local/lib/python3.7/site-packages/ipykernel_launcher.py:3: SettingWithCopyWarning: \n",
      "A value is trying to be set on a copy of a slice from a DataFrame\n",
      "\n",
      "See the caveats in the documentation: http://pandas.pydata.org/pandas-docs/stable/indexing.html#indexing-view-versus-copy\n",
      "  This is separate from the ipykernel package so we can avoid doing imports until\n"
     ]
    }
   ],
   "source": [
    "data['release_date'][2976] = pd.to_datetime('2017-05-12')\n",
    "data['release_date'][7612] = pd.to_datetime('2011-03-25')\n",
    "data['release_date'][7764] = pd.to_datetime('2011-01-21')"
   ]
  },
  {
   "cell_type": "markdown",
   "metadata": {},
   "source": [
    "We've filled out these release dates, however forex_python doesn't have information for exchange rates before 1999. Perhaps we have to make sure we keep movies with release dates after 1999."
   ]
  },
  {
   "cell_type": "code",
   "execution_count": 30,
   "metadata": {},
   "outputs": [
    {
     "data": {
      "text/plain": [
       "5"
      ]
     },
     "execution_count": 30,
     "metadata": {},
     "output_type": "execute_result"
    }
   ],
   "source": [
    "dates = data[gross.str.contains('GBP')]['release_date']\n",
    "#sum(data['release_date']<'1999-01-01')\n",
    "sum(dates<'1999-01-01')\n",
    "#dates.apply(lambda x: c.get_rate('GBP', 'USD', x))"
   ]
  },
  {
   "cell_type": "markdown",
   "metadata": {},
   "source": [
    "There are only 5 data points with release dates older than 01-01-1999. In order to make or job easier, we will simply remove those."
   ]
  },
  {
   "cell_type": "code",
   "execution_count": 45,
   "metadata": {},
   "outputs": [
    {
     "data": {
      "text/html": [
       "<div>\n",
       "<style scoped>\n",
       "    .dataframe tbody tr th:only-of-type {\n",
       "        vertical-align: middle;\n",
       "    }\n",
       "\n",
       "    .dataframe tbody tr th {\n",
       "        vertical-align: top;\n",
       "    }\n",
       "\n",
       "    .dataframe thead th {\n",
       "        text-align: right;\n",
       "    }\n",
       "</style>\n",
       "<table border=\"1\" class=\"dataframe\">\n",
       "  <thead>\n",
       "    <tr style=\"text-align: right;\">\n",
       "      <th></th>\n",
       "      <th>imdbid</th>\n",
       "      <th>title</th>\n",
       "      <th>plot</th>\n",
       "      <th>rating</th>\n",
       "      <th>imdb_rating</th>\n",
       "      <th>metacritic</th>\n",
       "      <th>dvd_release</th>\n",
       "      <th>production</th>\n",
       "      <th>actors</th>\n",
       "      <th>imdb_votes</th>\n",
       "      <th>poster</th>\n",
       "      <th>director</th>\n",
       "      <th>release_date</th>\n",
       "      <th>runtime</th>\n",
       "      <th>genre</th>\n",
       "      <th>awards</th>\n",
       "      <th>keywords</th>\n",
       "      <th>Budget</th>\n",
       "      <th>Box Office Gross</th>\n",
       "    </tr>\n",
       "  </thead>\n",
       "  <tbody>\n",
       "    <tr>\n",
       "      <th>3638</th>\n",
       "      <td>tt0028358</td>\n",
       "      <td>Things to Come</td>\n",
       "      <td>The story of a century: a decades-long second ...</td>\n",
       "      <td>NOT RATED</td>\n",
       "      <td>6.7</td>\n",
       "      <td>NaN</td>\n",
       "      <td>2000-02-01</td>\n",
       "      <td>United Artists</td>\n",
       "      <td>Raymond Massey, Edward Chapman, Ralph Richards...</td>\n",
       "      <td>5490.0</td>\n",
       "      <td>https://images-na.ssl-images-amazon.com/images...</td>\n",
       "      <td>William Cameron Menzies</td>\n",
       "      <td>1936-09-14</td>\n",
       "      <td>100 min</td>\n",
       "      <td>Drama, Sci-Fi, War</td>\n",
       "      <td>NaN</td>\n",
       "      <td>plague|progress|1940s|scientist|outer-space|ba...</td>\n",
       "      <td>0</td>\n",
       "      <td>GBP300,000</td>\n",
       "    </tr>\n",
       "    <tr>\n",
       "      <th>3731</th>\n",
       "      <td>tt0087803</td>\n",
       "      <td>1984</td>\n",
       "      <td>In a totalitarian future society, a man whose ...</td>\n",
       "      <td>R</td>\n",
       "      <td>7.2</td>\n",
       "      <td>NaN</td>\n",
       "      <td>2003-03-04</td>\n",
       "      <td>Live Home Video</td>\n",
       "      <td>John Hurt, Richard Burton, Suzanna Hamilton, C...</td>\n",
       "      <td>53670.0</td>\n",
       "      <td>https://images-na.ssl-images-amazon.com/images...</td>\n",
       "      <td>Michael Radford</td>\n",
       "      <td>1985-03-22</td>\n",
       "      <td>113 min</td>\n",
       "      <td>Drama, Sci-Fi</td>\n",
       "      <td>Nominated for 1 BAFTA Film Award. Another 5 wi...</td>\n",
       "      <td>dystopia|pneumatic-tube|totalitarianism|helico...</td>\n",
       "      <td>0</td>\n",
       "      <td>GBP3,000,000</td>\n",
       "    </tr>\n",
       "    <tr>\n",
       "      <th>3803</th>\n",
       "      <td>tt0097937</td>\n",
       "      <td>My Left Foot</td>\n",
       "      <td>Christy Brown, born with cerebral palsy, learn...</td>\n",
       "      <td>R</td>\n",
       "      <td>7.9</td>\n",
       "      <td>97.0</td>\n",
       "      <td>2005-08-16</td>\n",
       "      <td>HBO Video</td>\n",
       "      <td>Daniel Day-Lewis, Brenda Fricker, Alison Whela...</td>\n",
       "      <td>53887.0</td>\n",
       "      <td>https://images-na.ssl-images-amazon.com/images...</td>\n",
       "      <td>Jim Sheridan</td>\n",
       "      <td>1990-03-30</td>\n",
       "      <td>103 min</td>\n",
       "      <td>Biography, Drama</td>\n",
       "      <td>Won 2 Oscars. Another 20 wins &amp; 19 nominations.</td>\n",
       "      <td>foot|cerebral-palsy|irish|flashback|author|poe...</td>\n",
       "      <td>0</td>\n",
       "      <td>GBP600,000</td>\n",
       "    </tr>\n",
       "    <tr>\n",
       "      <th>3821</th>\n",
       "      <td>tt0099594</td>\n",
       "      <td>Fools of Fortune</td>\n",
       "      <td>A Protestant Irish family is caught up in a co...</td>\n",
       "      <td>PG-13</td>\n",
       "      <td>5.7</td>\n",
       "      <td>NaN</td>\n",
       "      <td>1991-07-03</td>\n",
       "      <td>Working Title Films</td>\n",
       "      <td>Iain Glen, Mary Elizabeth Mastrantonio, Sean T...</td>\n",
       "      <td>169.0</td>\n",
       "      <td>https://images-na.ssl-images-amazon.com/images...</td>\n",
       "      <td>Pat O'Connor</td>\n",
       "      <td>1990-06-22</td>\n",
       "      <td>109 min</td>\n",
       "      <td>Drama, Romance</td>\n",
       "      <td>2 wins.</td>\n",
       "      <td>republican|ireland|revenge|black-and-tans|alco...</td>\n",
       "      <td>0</td>\n",
       "      <td>GBP2,500,000</td>\n",
       "    </tr>\n",
       "    <tr>\n",
       "      <th>4090</th>\n",
       "      <td>tt0120735</td>\n",
       "      <td>Lock, Stock and Two Smoking Barrels</td>\n",
       "      <td>A botched card game in London triggers four fr...</td>\n",
       "      <td>R</td>\n",
       "      <td>8.2</td>\n",
       "      <td>66.0</td>\n",
       "      <td>1999-08-31</td>\n",
       "      <td>Gramercy Pictures</td>\n",
       "      <td>Jason Flemyng, Dexter Fletcher, Nick Moran, Ja...</td>\n",
       "      <td>447546.0</td>\n",
       "      <td>https://images-na.ssl-images-amazon.com/images...</td>\n",
       "      <td>Guy Ritchie</td>\n",
       "      <td>1998-08-28</td>\n",
       "      <td>107 min</td>\n",
       "      <td>Comedy, Crime</td>\n",
       "      <td>Nominated for 1 BAFTA Film Award. Another 13 w...</td>\n",
       "      <td>gangster|cockney-accent|shotgun|hatchet|antiqu...</td>\n",
       "      <td>0</td>\n",
       "      <td>GBP960,000</td>\n",
       "    </tr>\n",
       "  </tbody>\n",
       "</table>\n",
       "</div>"
      ],
      "text/plain": [
       "         imdbid                                title  \\\n",
       "3638  tt0028358                       Things to Come   \n",
       "3731  tt0087803                                 1984   \n",
       "3803  tt0097937                         My Left Foot   \n",
       "3821  tt0099594                     Fools of Fortune   \n",
       "4090  tt0120735  Lock, Stock and Two Smoking Barrels   \n",
       "\n",
       "                                                   plot     rating  \\\n",
       "3638  The story of a century: a decades-long second ...  NOT RATED   \n",
       "3731  In a totalitarian future society, a man whose ...          R   \n",
       "3803  Christy Brown, born with cerebral palsy, learn...          R   \n",
       "3821  A Protestant Irish family is caught up in a co...      PG-13   \n",
       "4090  A botched card game in London triggers four fr...          R   \n",
       "\n",
       "      imdb_rating  metacritic dvd_release           production  \\\n",
       "3638          6.7         NaN  2000-02-01       United Artists   \n",
       "3731          7.2         NaN  2003-03-04      Live Home Video   \n",
       "3803          7.9        97.0  2005-08-16            HBO Video   \n",
       "3821          5.7         NaN  1991-07-03  Working Title Films   \n",
       "4090          8.2        66.0  1999-08-31    Gramercy Pictures   \n",
       "\n",
       "                                                 actors  imdb_votes  \\\n",
       "3638  Raymond Massey, Edward Chapman, Ralph Richards...      5490.0   \n",
       "3731  John Hurt, Richard Burton, Suzanna Hamilton, C...     53670.0   \n",
       "3803  Daniel Day-Lewis, Brenda Fricker, Alison Whela...     53887.0   \n",
       "3821  Iain Glen, Mary Elizabeth Mastrantonio, Sean T...       169.0   \n",
       "4090  Jason Flemyng, Dexter Fletcher, Nick Moran, Ja...    447546.0   \n",
       "\n",
       "                                                 poster  \\\n",
       "3638  https://images-na.ssl-images-amazon.com/images...   \n",
       "3731  https://images-na.ssl-images-amazon.com/images...   \n",
       "3803  https://images-na.ssl-images-amazon.com/images...   \n",
       "3821  https://images-na.ssl-images-amazon.com/images...   \n",
       "4090  https://images-na.ssl-images-amazon.com/images...   \n",
       "\n",
       "                     director release_date  runtime               genre  \\\n",
       "3638  William Cameron Menzies   1936-09-14  100 min  Drama, Sci-Fi, War   \n",
       "3731          Michael Radford   1985-03-22  113 min       Drama, Sci-Fi   \n",
       "3803             Jim Sheridan   1990-03-30  103 min    Biography, Drama   \n",
       "3821             Pat O'Connor   1990-06-22  109 min      Drama, Romance   \n",
       "4090              Guy Ritchie   1998-08-28  107 min       Comedy, Crime   \n",
       "\n",
       "                                                 awards  \\\n",
       "3638                                                NaN   \n",
       "3731  Nominated for 1 BAFTA Film Award. Another 5 wi...   \n",
       "3803    Won 2 Oscars. Another 20 wins & 19 nominations.   \n",
       "3821                                            2 wins.   \n",
       "4090  Nominated for 1 BAFTA Film Award. Another 13 w...   \n",
       "\n",
       "                                               keywords  Budget  \\\n",
       "3638  plague|progress|1940s|scientist|outer-space|ba...       0   \n",
       "3731  dystopia|pneumatic-tube|totalitarianism|helico...       0   \n",
       "3803  foot|cerebral-palsy|irish|flashback|author|poe...       0   \n",
       "3821  republican|ireland|revenge|black-and-tans|alco...       0   \n",
       "4090  gangster|cockney-accent|shotgun|hatchet|antiqu...       0   \n",
       "\n",
       "     Box Office Gross  \n",
       "3638       GBP300,000  \n",
       "3731     GBP3,000,000  \n",
       "3803       GBP600,000  \n",
       "3821     GBP2,500,000  \n",
       "4090       GBP960,000  "
      ]
     },
     "execution_count": 45,
     "metadata": {},
     "output_type": "execute_result"
    }
   ],
   "source": [
    "gbp_table = data['Box Office Gross'].str.contains('GBP')\n",
    "outdated_table = data['release_date']<'1999-01-01'\n",
    "outdatedgbp_table = gbp_table*outdated_table\n",
    "data[outdatedgbp_table]"
   ]
  },
  {
   "cell_type": "markdown",
   "metadata": {},
   "source": [
    "Then, we've successfully isolated the entries whose release dates prevent us from converting their numbers to USD. Now we'll remove them."
   ]
  },
  {
   "cell_type": "code",
   "execution_count": 49,
   "metadata": {},
   "outputs": [],
   "source": [
    "data = data.drop(data[outdatedgbp_table].index)"
   ]
  },
  {
   "cell_type": "code",
   "execution_count": 51,
   "metadata": {},
   "outputs": [
    {
     "name": "stderr",
     "output_type": "stream",
     "text": [
      "/usr/local/lib/python3.7/site-packages/ipykernel_launcher.py:1: UserWarning: Boolean Series key will be reindexed to match DataFrame index.\n",
      "  \"\"\"Entry point for launching an IPython kernel.\n"
     ]
    }
   ],
   "source": [
    "dates = data[gross.str.contains('GBP')]['release_date']\n",
    "rates = dates.apply(lambda x: c.get_rate('GBP', 'USD', x))"
   ]
  },
  {
   "cell_type": "code",
   "execution_count": null,
   "metadata": {},
   "outputs": [],
   "source": []
  },
  {
   "cell_type": "code",
   "execution_count": null,
   "metadata": {},
   "outputs": [],
   "source": [
    "data.isna().sum()"
   ]
  },
  {
   "cell_type": "markdown",
   "metadata": {},
   "source": [
    "Clearly we are going to have to do something about these missing values. We'll look at what each of these variables is and handle their missing values on a case by case basis."
   ]
  },
  {
   "cell_type": "code",
   "execution_count": null,
   "metadata": {},
   "outputs": [],
   "source": [
    "data['rating'].unique()"
   ]
  },
  {
   "cell_type": "markdown",
   "metadata": {},
   "source": [
    "Already I get the impression that the missing values should just be 'UNRATED' or 'NOT RATED'. First, we should figure out the distinction between unrated and not rated movies.\n",
    "\n",
    "Not rated movies are movies that were not submitted to the MPAA for ratings.\n",
    "\n",
    "Unrated movies are those that have had scenes altered/omitted/added that may or may not have an effect on a movie's rating. Usually this only happens with DVD releases. Using this knowledge, it makes sense to turn all the missing values into 'NOT RATED' categories. There's no good reason to justify giving them a rating.\n",
    "\n",
    "Another solution is to find another dataset containing each movie and their respective ratings."
   ]
  },
  {
   "cell_type": "code",
   "execution_count": null,
   "metadata": {
    "scrolled": true
   },
   "outputs": [],
   "source": [
    "data[data['rating'].isna()].head()"
   ]
  },
  {
   "cell_type": "markdown",
   "metadata": {},
   "source": [
    "Looking at the first few movies with missing ratings, let's get a sense of whether they just have no rating at all, or if the dataset is just missing data.\n",
    "\n",
    "[Ugly, Dirty, and Bad](https://www.rottentomatoes.com/m/ugly_dirty_and_bad), has a rating of 'NR', Not Rated.\n",
    "\n",
    "[Losing Ground](https://www.rottentomatoes.com/m/losing_ground_1982), has a rating of 'NR', Not Rated.\n",
    "\n",
    "[L'argent](https://www.rottentomatoes.com/m/largent), has a rating of 'NR', Not Rated.\n",
    "\n",
    "[Rebels of the Neon God](https://www.rottentomatoes.com/m/rebels_of_the_neon_god), has a rating of 'NR', Not Rated. Strangely enough, this movie is listed as having come out on Apr 10, 2015. Whereas the dataset has August 4, 1994.\n",
    "\n",
    "[River of Grass](https://www.rottentomatoes.com/m/river_of_grass), has a rating of 'NR', Not Rated.\n",
    "\n",
    "Then it seems like a reasonable idea to assign each missing rating, 'NOT RATED'."
   ]
  },
  {
   "cell_type": "code",
   "execution_count": null,
   "metadata": {},
   "outputs": [],
   "source": [
    "data['rating'] = data['rating'].fillna('NOT RATED')"
   ]
  },
  {
   "cell_type": "code",
   "execution_count": null,
   "metadata": {},
   "outputs": [],
   "source": [
    "data.isna().sum()"
   ]
  },
  {
   "cell_type": "code",
   "execution_count": null,
   "metadata": {},
   "outputs": [],
   "source": [
    "data['imdb_rating'].unique()"
   ]
  },
  {
   "cell_type": "markdown",
   "metadata": {},
   "source": [
    "The first thing I notice is that we have partial ratings (ie. 8.5, 1.3, 2.2, etc.). Also, this is ordinal data, an 8 movie is better than a 7 movie is better than a 6 movie... So we will bin the ratings into the set [1, 2, 3, 4, 5, 6, 7, 8, 9, 10] after we deal with the missing data."
   ]
  },
  {
   "cell_type": "code",
   "execution_count": null,
   "metadata": {},
   "outputs": [],
   "source": [
    "data[data['imdb_rating'].isna()]"
   ]
  },
  {
   "cell_type": "markdown",
   "metadata": {},
   "source": [
    "Notice that a fair number of movies that are missing imdb ratings are also missing metacritic ratings, dvd releases, posters, and box office returns. On top of all of this, many also have release dates that are after 9/21/2017. There isn't a reason to try to impute these values since they're essentially missing all relevant information because they haven't been released yet."
   ]
  },
  {
   "cell_type": "code",
   "execution_count": null,
   "metadata": {},
   "outputs": [],
   "source": []
  }
 ],
 "metadata": {
  "kernelspec": {
   "display_name": "Python 3",
   "language": "python",
   "name": "python3"
  },
  "language_info": {
   "codemirror_mode": {
    "name": "ipython",
    "version": 3
   },
   "file_extension": ".py",
   "mimetype": "text/x-python",
   "name": "python",
   "nbconvert_exporter": "python",
   "pygments_lexer": "ipython3",
   "version": "3.7.2"
  }
 },
 "nbformat": 4,
 "nbformat_minor": 2
}
