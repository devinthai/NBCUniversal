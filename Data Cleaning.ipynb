{
 "cells": [
  {
   "cell_type": "markdown",
   "metadata": {},
   "source": [
    "# Data Cleaning"
   ]
  },
  {
   "cell_type": "code",
   "execution_count": 1,
   "metadata": {},
   "outputs": [],
   "source": [
    "import pandas as pd\n",
    "import matplotlib.pyplot as plt\n",
    "%matplotlib inline"
   ]
  },
  {
   "cell_type": "code",
   "execution_count": 2,
   "metadata": {
    "scrolled": true
   },
   "outputs": [
    {
     "data": {
      "text/html": [
       "<div>\n",
       "<style scoped>\n",
       "    .dataframe tbody tr th:only-of-type {\n",
       "        vertical-align: middle;\n",
       "    }\n",
       "\n",
       "    .dataframe tbody tr th {\n",
       "        vertical-align: top;\n",
       "    }\n",
       "\n",
       "    .dataframe thead th {\n",
       "        text-align: right;\n",
       "    }\n",
       "</style>\n",
       "<table border=\"1\" class=\"dataframe\">\n",
       "  <thead>\n",
       "    <tr style=\"text-align: right;\">\n",
       "      <th></th>\n",
       "      <th>imdbid</th>\n",
       "      <th>title</th>\n",
       "      <th>plot</th>\n",
       "      <th>rating</th>\n",
       "      <th>imdb_rating</th>\n",
       "      <th>metacritic</th>\n",
       "      <th>dvd_release</th>\n",
       "      <th>production</th>\n",
       "      <th>actors</th>\n",
       "      <th>imdb_votes</th>\n",
       "      <th>poster</th>\n",
       "      <th>director</th>\n",
       "      <th>release_date</th>\n",
       "      <th>runtime</th>\n",
       "      <th>genre</th>\n",
       "      <th>awards</th>\n",
       "      <th>keywords</th>\n",
       "      <th>Budget</th>\n",
       "      <th>Box Office Gross</th>\n",
       "    </tr>\n",
       "  </thead>\n",
       "  <tbody>\n",
       "    <tr>\n",
       "      <th>0</th>\n",
       "      <td>tt0010323</td>\n",
       "      <td>The Cabinet of Dr. Caligari</td>\n",
       "      <td>Hypnotist Dr. Caligari uses a somnambulist, Ce...</td>\n",
       "      <td>UNRATED</td>\n",
       "      <td>8.1</td>\n",
       "      <td>NaN</td>\n",
       "      <td>15-Oct-97</td>\n",
       "      <td>Rialto Pictures</td>\n",
       "      <td>Werner Krauss, Conrad Veidt, Friedrich Feher, ...</td>\n",
       "      <td>42,583</td>\n",
       "      <td>https://images-na.ssl-images-amazon.com/images...</td>\n",
       "      <td>Robert Wiene</td>\n",
       "      <td>19-Mar-21</td>\n",
       "      <td>67 min</td>\n",
       "      <td>Fantasy, Horror, Mystery</td>\n",
       "      <td>1 nomination.</td>\n",
       "      <td>expressionism|somnambulist|avant-garde|hypnosi...</td>\n",
       "      <td>18000</td>\n",
       "      <td>0</td>\n",
       "    </tr>\n",
       "    <tr>\n",
       "      <th>1</th>\n",
       "      <td>tt0052893</td>\n",
       "      <td>Hiroshima Mon Amour</td>\n",
       "      <td>A French actress filming an anti-war film in H...</td>\n",
       "      <td>NOT RATED</td>\n",
       "      <td>8.0</td>\n",
       "      <td>NaN</td>\n",
       "      <td>24-Jun-03</td>\n",
       "      <td>Rialto Pictures</td>\n",
       "      <td>Emmanuelle Riva, Eiji Okada, Stella Dassas, Pi...</td>\n",
       "      <td>21,154</td>\n",
       "      <td>https://images-na.ssl-images-amazon.com/images...</td>\n",
       "      <td>Alain Resnais</td>\n",
       "      <td>16-May-60</td>\n",
       "      <td>90 min</td>\n",
       "      <td>Drama, Romance</td>\n",
       "      <td>Nominated for 1 Oscar. Another 6 wins &amp; 5 nomi...</td>\n",
       "      <td>memory|atomic-bomb|lovers-separation|impossibl...</td>\n",
       "      <td>88300</td>\n",
       "      <td>0</td>\n",
       "    </tr>\n",
       "    <tr>\n",
       "      <th>2</th>\n",
       "      <td>tt0058898</td>\n",
       "      <td>Alphaville</td>\n",
       "      <td>A U.S. secret agent is sent to the distant spa...</td>\n",
       "      <td>NOT RATED</td>\n",
       "      <td>7.2</td>\n",
       "      <td>NaN</td>\n",
       "      <td>20-Oct-98</td>\n",
       "      <td>Rialto Pictures</td>\n",
       "      <td>Eddie Constantine, Anna Karina, Akim Tamiroff</td>\n",
       "      <td>17,801</td>\n",
       "      <td>https://images-na.ssl-images-amazon.com/images...</td>\n",
       "      <td>Jean-Luc Godard</td>\n",
       "      <td>5-May-65</td>\n",
       "      <td>99 min</td>\n",
       "      <td>Drama, Mystery, Sci-Fi</td>\n",
       "      <td>1 win.</td>\n",
       "      <td>dystopia|french-new-wave|satire|comic-violence...</td>\n",
       "      <td>220000</td>\n",
       "      <td>46585</td>\n",
       "    </tr>\n",
       "    <tr>\n",
       "      <th>3</th>\n",
       "      <td>tt0074252</td>\n",
       "      <td>Ugly, Dirty and Bad</td>\n",
       "      <td>Four generations of a family live crowded toge...</td>\n",
       "      <td>NaN</td>\n",
       "      <td>7.9</td>\n",
       "      <td>NaN</td>\n",
       "      <td>1-Nov-16</td>\n",
       "      <td>Compagnia Cinematografica Champion</td>\n",
       "      <td>Nino Manfredi, Maria Luisa Santella, Francesco...</td>\n",
       "      <td>5,705</td>\n",
       "      <td>https://images-na.ssl-images-amazon.com/images...</td>\n",
       "      <td>Ettore Scola</td>\n",
       "      <td>23-Sep-76</td>\n",
       "      <td>115 min</td>\n",
       "      <td>Comedy, Drama</td>\n",
       "      <td>1 win &amp; 2 nominations.</td>\n",
       "      <td>incest|failed-murder-attempt|poisoned-food|bap...</td>\n",
       "      <td>6590</td>\n",
       "      <td>0</td>\n",
       "    </tr>\n",
       "    <tr>\n",
       "      <th>4</th>\n",
       "      <td>tt0084269</td>\n",
       "      <td>Losing Ground</td>\n",
       "      <td>A comedy-drama about a Black American female p...</td>\n",
       "      <td>NaN</td>\n",
       "      <td>6.3</td>\n",
       "      <td>NaN</td>\n",
       "      <td>NaN</td>\n",
       "      <td>Milestone Film &amp; Video</td>\n",
       "      <td>Billie Allen, Gary Bolling, Clarence Branch Jr...</td>\n",
       "      <td>132</td>\n",
       "      <td>https://images-na.ssl-images-amazon.com/images...</td>\n",
       "      <td>Kathleen Collins</td>\n",
       "      <td>1-Jun-82</td>\n",
       "      <td>86 min</td>\n",
       "      <td>Comedy, Drama</td>\n",
       "      <td>NaN</td>\n",
       "      <td>artist|painter|marriage|black-independent-film...</td>\n",
       "      <td>0</td>\n",
       "      <td>0</td>\n",
       "    </tr>\n",
       "  </tbody>\n",
       "</table>\n",
       "</div>"
      ],
      "text/plain": [
       "      imdbid                        title  \\\n",
       "0  tt0010323  The Cabinet of Dr. Caligari   \n",
       "1  tt0052893          Hiroshima Mon Amour   \n",
       "2  tt0058898                   Alphaville   \n",
       "3  tt0074252          Ugly, Dirty and Bad   \n",
       "4  tt0084269                Losing Ground   \n",
       "\n",
       "                                                plot     rating  imdb_rating  \\\n",
       "0  Hypnotist Dr. Caligari uses a somnambulist, Ce...    UNRATED          8.1   \n",
       "1  A French actress filming an anti-war film in H...  NOT RATED          8.0   \n",
       "2  A U.S. secret agent is sent to the distant spa...  NOT RATED          7.2   \n",
       "3  Four generations of a family live crowded toge...        NaN          7.9   \n",
       "4  A comedy-drama about a Black American female p...        NaN          6.3   \n",
       "\n",
       "   metacritic dvd_release                          production  \\\n",
       "0         NaN   15-Oct-97                     Rialto Pictures   \n",
       "1         NaN   24-Jun-03                     Rialto Pictures   \n",
       "2         NaN   20-Oct-98                     Rialto Pictures   \n",
       "3         NaN    1-Nov-16  Compagnia Cinematografica Champion   \n",
       "4         NaN         NaN              Milestone Film & Video   \n",
       "\n",
       "                                              actors imdb_votes  \\\n",
       "0  Werner Krauss, Conrad Veidt, Friedrich Feher, ...     42,583   \n",
       "1  Emmanuelle Riva, Eiji Okada, Stella Dassas, Pi...     21,154   \n",
       "2      Eddie Constantine, Anna Karina, Akim Tamiroff     17,801   \n",
       "3  Nino Manfredi, Maria Luisa Santella, Francesco...      5,705   \n",
       "4  Billie Allen, Gary Bolling, Clarence Branch Jr...        132   \n",
       "\n",
       "                                              poster          director  \\\n",
       "0  https://images-na.ssl-images-amazon.com/images...      Robert Wiene   \n",
       "1  https://images-na.ssl-images-amazon.com/images...     Alain Resnais   \n",
       "2  https://images-na.ssl-images-amazon.com/images...   Jean-Luc Godard   \n",
       "3  https://images-na.ssl-images-amazon.com/images...      Ettore Scola   \n",
       "4  https://images-na.ssl-images-amazon.com/images...  Kathleen Collins   \n",
       "\n",
       "  release_date  runtime                     genre  \\\n",
       "0    19-Mar-21   67 min  Fantasy, Horror, Mystery   \n",
       "1    16-May-60   90 min            Drama, Romance   \n",
       "2     5-May-65   99 min    Drama, Mystery, Sci-Fi   \n",
       "3    23-Sep-76  115 min             Comedy, Drama   \n",
       "4     1-Jun-82   86 min             Comedy, Drama   \n",
       "\n",
       "                                              awards  \\\n",
       "0                                      1 nomination.   \n",
       "1  Nominated for 1 Oscar. Another 6 wins & 5 nomi...   \n",
       "2                                             1 win.   \n",
       "3                             1 win & 2 nominations.   \n",
       "4                                                NaN   \n",
       "\n",
       "                                            keywords  Budget Box Office Gross  \n",
       "0  expressionism|somnambulist|avant-garde|hypnosi...   18000                0  \n",
       "1  memory|atomic-bomb|lovers-separation|impossibl...   88300                0  \n",
       "2  dystopia|french-new-wave|satire|comic-violence...  220000            46585  \n",
       "3  incest|failed-murder-attempt|poisoned-food|bap...    6590                0  \n",
       "4  artist|painter|marriage|black-independent-film...       0                0  "
      ]
     },
     "execution_count": 2,
     "metadata": {},
     "output_type": "execute_result"
    }
   ],
   "source": [
    "data = pd.read_csv('Data/NBCU-dataLaurel.csv')\n",
    "data.head()"
   ]
  },
  {
   "cell_type": "code",
   "execution_count": 3,
   "metadata": {},
   "outputs": [
    {
     "data": {
      "text/plain": [
       "(8468, 19)"
      ]
     },
     "execution_count": 3,
     "metadata": {},
     "output_type": "execute_result"
    }
   ],
   "source": [
    "data.shape"
   ]
  },
  {
   "cell_type": "markdown",
   "metadata": {},
   "source": [
    "These are the variables we have to work with:\n",
    "\n",
    "imdbid: Unique Id used by IMDB to refer to the movie.\n",
    "\n",
    "Title: Title of the movie\n",
    "\n",
    "plot: Movie plot summary\n",
    "\n",
    "rating: MPAA Appropriate audience rating\n",
    "\n",
    "imdb_rating: IMDB's voters' scoring of a movie on a scale from 1-10 (10 being best)\n",
    "\n",
    "metacritic: Metacritic movie score on a scale of 0-100 (100 being best)\n",
    "\n",
    "dvd_release: Movie release date on DVD\n",
    "\n",
    "production: Principle production company\n",
    "\n",
    "actors: Lead Actors\n",
    "\n",
    "imdb_votes: Total votes from IMDB members\n",
    "\n",
    "poster: Movie Poster artwork\n",
    "\n",
    "director: Movie director\n",
    "\n",
    "release_date: Theatrical Release Date\n",
    "\n",
    "runtime: Runtime length of movie in minutes\n",
    "\n",
    "genre: Genre Classification\n",
    "\n",
    "awards: Academy awards & nominations\n",
    "\n",
    "keywords: Keywords associated with the movie\n",
    "\n",
    "budget: Budget spent on movie production, marketing, and distribution\n",
    "\n",
    "box office gross: Box Office Gross Returns as of 9/21/2017"
   ]
  },
  {
   "cell_type": "code",
   "execution_count": 4,
   "metadata": {},
   "outputs": [
    {
     "name": "stdout",
     "output_type": "stream",
     "text": [
      "<class 'pandas.core.frame.DataFrame'>\n",
      "RangeIndex: 8468 entries, 0 to 8467\n",
      "Data columns (total 19 columns):\n",
      "imdbid              8468 non-null object\n",
      "title               8468 non-null object\n",
      "plot                8196 non-null object\n",
      "rating              5252 non-null object\n",
      "imdb_rating         7735 non-null float64\n",
      "metacritic          5079 non-null float64\n",
      "dvd_release         5335 non-null object\n",
      "production          6758 non-null object\n",
      "actors              8153 non-null object\n",
      "imdb_votes          7735 non-null object\n",
      "poster              7967 non-null object\n",
      "director            8390 non-null object\n",
      "release_date        8283 non-null object\n",
      "runtime             7846 non-null object\n",
      "genre               8424 non-null object\n",
      "awards              5242 non-null object\n",
      "keywords            6381 non-null object\n",
      "Budget              8468 non-null object\n",
      "Box Office Gross    8468 non-null object\n",
      "dtypes: float64(2), object(17)\n",
      "memory usage: 1.2+ MB\n"
     ]
    }
   ],
   "source": [
    "data.info()"
   ]
  },
  {
   "cell_type": "markdown",
   "metadata": {},
   "source": [
    "Notice how many of variables are just objects. We're going to have to deal with converting a few of these into useful types.\n",
    "\n",
    "First, we'll start by changing release_date to a datetime-like type."
   ]
  },
  {
   "cell_type": "code",
   "execution_count": 5,
   "metadata": {},
   "outputs": [
    {
     "data": {
      "text/plain": [
       "0    19-Mar-21\n",
       "1    16-May-60\n",
       "2     5-May-65\n",
       "3    23-Sep-76\n",
       "4     1-Jun-82\n",
       "Name: release_date, dtype: object"
      ]
     },
     "execution_count": 5,
     "metadata": {},
     "output_type": "execute_result"
    }
   ],
   "source": [
    "data['release_date'].head()"
   ]
  },
  {
   "cell_type": "code",
   "execution_count": 6,
   "metadata": {},
   "outputs": [
    {
     "data": {
      "text/plain": [
       "(Timestamp('2060-05-16 00:00:00'), '16-May-60')"
      ]
     },
     "execution_count": 6,
     "metadata": {},
     "output_type": "execute_result"
    }
   ],
   "source": [
    "pd.to_datetime(data['release_date'])[1],data['release_date'][1]"
   ]
  },
  {
   "cell_type": "markdown",
   "metadata": {},
   "source": [
    "Then we see that there is an issue with pandas to_datetime function. It converts very old dates back to the 19th century. Perhaps we need to use the datetime package per [this](https://stackoverflow.com/questions/16600548/how-to-parse-string-dates-with-2-digit-year)."
   ]
  },
  {
   "cell_type": "code",
   "execution_count": 7,
   "metadata": {},
   "outputs": [
    {
     "data": {
      "text/plain": [
       "0   1921-03-19\n",
       "1   1960-05-16\n",
       "2   1965-05-05\n",
       "3   1976-09-23\n",
       "4   1982-06-01\n",
       "Name: release_date, dtype: datetime64[ns]"
      ]
     },
     "execution_count": 7,
     "metadata": {},
     "output_type": "execute_result"
    }
   ],
   "source": [
    "import datetime\n",
    "import numpy as np\n",
    "\n",
    "dates = data['release_date']\n",
    "\n",
    "dates = pd.to_datetime(dates)\n",
    "\n",
    "for i in range(len(dates)):\n",
    "    if dates[i].year > 2019:\n",
    "        dates[i] = dates[i].replace(year = dates[i].year-100)\n",
    "\n",
    "dates.head()"
   ]
  },
  {
   "cell_type": "markdown",
   "metadata": {},
   "source": [
    "Then we've found a way to account for Python's default pivot year."
   ]
  },
  {
   "cell_type": "code",
   "execution_count": 8,
   "metadata": {},
   "outputs": [
    {
     "name": "stdout",
     "output_type": "stream",
     "text": [
      "<class 'pandas.core.frame.DataFrame'>\n",
      "RangeIndex: 8468 entries, 0 to 8467\n",
      "Data columns (total 19 columns):\n",
      "imdbid              8468 non-null object\n",
      "title               8468 non-null object\n",
      "plot                8196 non-null object\n",
      "rating              5252 non-null object\n",
      "imdb_rating         7735 non-null float64\n",
      "metacritic          5079 non-null float64\n",
      "dvd_release         5335 non-null object\n",
      "production          6758 non-null object\n",
      "actors              8153 non-null object\n",
      "imdb_votes          7735 non-null object\n",
      "poster              7967 non-null object\n",
      "director            8390 non-null object\n",
      "release_date        8283 non-null datetime64[ns]\n",
      "runtime             7846 non-null object\n",
      "genre               8424 non-null object\n",
      "awards              5242 non-null object\n",
      "keywords            6381 non-null object\n",
      "Budget              8468 non-null object\n",
      "Box Office Gross    8468 non-null object\n",
      "dtypes: datetime64[ns](1), float64(2), object(16)\n",
      "memory usage: 1.2+ MB\n"
     ]
    }
   ],
   "source": [
    "data['release_date']=dates\n",
    "data.info()"
   ]
  },
  {
   "cell_type": "markdown",
   "metadata": {},
   "source": [
    "It seems natural to also do the same for dvd_release."
   ]
  },
  {
   "cell_type": "code",
   "execution_count": 9,
   "metadata": {},
   "outputs": [
    {
     "name": "stdout",
     "output_type": "stream",
     "text": [
      "<class 'pandas.core.frame.DataFrame'>\n",
      "RangeIndex: 8468 entries, 0 to 8467\n",
      "Data columns (total 19 columns):\n",
      "imdbid              8468 non-null object\n",
      "title               8468 non-null object\n",
      "plot                8196 non-null object\n",
      "rating              5252 non-null object\n",
      "imdb_rating         7735 non-null float64\n",
      "metacritic          5079 non-null float64\n",
      "dvd_release         5335 non-null datetime64[ns]\n",
      "production          6758 non-null object\n",
      "actors              8153 non-null object\n",
      "imdb_votes          7735 non-null object\n",
      "poster              7967 non-null object\n",
      "director            8390 non-null object\n",
      "release_date        8283 non-null datetime64[ns]\n",
      "runtime             7846 non-null object\n",
      "genre               8424 non-null object\n",
      "awards              5242 non-null object\n",
      "keywords            6381 non-null object\n",
      "Budget              8468 non-null object\n",
      "Box Office Gross    8468 non-null object\n",
      "dtypes: datetime64[ns](2), float64(2), object(15)\n",
      "memory usage: 1.2+ MB\n"
     ]
    }
   ],
   "source": [
    "dates = data['dvd_release']\n",
    "\n",
    "dates = pd.to_datetime(dates)\n",
    "\n",
    "for i in range(len(dates)):\n",
    "    if dates[i].year > 2019:\n",
    "        dates[i] = dates[i].replace(year = dates[i].year-100)\n",
    "\n",
    "data['dvd_release'] = dates\n",
    "data.info()"
   ]
  },
  {
   "cell_type": "markdown",
   "metadata": {},
   "source": [
    "Next, we have several important numerical variables that are currenly in object types. First, we'll work with imdb_votes."
   ]
  },
  {
   "cell_type": "code",
   "execution_count": 10,
   "metadata": {},
   "outputs": [
    {
     "data": {
      "text/plain": [
       "0    42,583\n",
       "1    21,154\n",
       "2    17,801\n",
       "3     5,705\n",
       "4       132\n",
       "Name: imdb_votes, dtype: object"
      ]
     },
     "execution_count": 10,
     "metadata": {},
     "output_type": "execute_result"
    }
   ],
   "source": [
    "data['imdb_votes'].head()"
   ]
  },
  {
   "cell_type": "markdown",
   "metadata": {},
   "source": [
    "So we need to convert imdb_votes to integers. Since there are commas in each number, we cannot simply tell pandas to treat each entry as an integer via the .astype() function. We'll first have to replace each comma with a blank, then apply the int() function. We also have to take care to ignore all of the missing values from imdb_votes as we will be dealing with those later."
   ]
  },
  {
   "cell_type": "code",
   "execution_count": 14,
   "metadata": {},
   "outputs": [
    {
     "name": "stdout",
     "output_type": "stream",
     "text": [
      "8468\n",
      "8468\n"
     ]
    },
    {
     "data": {
      "text/plain": [
       "0    42583\n",
       "1    21154\n",
       "2    17801\n",
       "3     5705\n",
       "4      132\n",
       "Name: imdb_votes, dtype: object"
      ]
     },
     "execution_count": 14,
     "metadata": {},
     "output_type": "execute_result"
    }
   ],
   "source": [
    "votes = data['imdb_votes']\n",
    "print(len(votes))\n",
    "votes_parsed = votes[votes.str.find(',')>0].apply(lambda x: x.replace(',',''))\n",
    "print(len(votes))\n",
    "#votes[votes.str.find(',')>0]\n",
    "for i in votes_parsed.index:\n",
    "    votes[i] = votes_parsed[i]\n",
    "votes.head()"
   ]
  },
  {
   "cell_type": "markdown",
   "metadata": {},
   "source": [
    "Then, we've successfully removed all of the commas."
   ]
  },
  {
   "cell_type": "code",
   "execution_count": null,
   "metadata": {},
   "outputs": [],
   "source": [
    "[len(votes), len(data['imdb_votes'])]"
   ]
  },
  {
   "cell_type": "code",
   "execution_count": null,
   "metadata": {},
   "outputs": [],
   "source": [
    "data.isna().sum()"
   ]
  },
  {
   "cell_type": "markdown",
   "metadata": {},
   "source": [
    "Clearly we are going to have to do something about these missing values. We'll look at what each of these variables is and handle their missing values on a case by case basis."
   ]
  },
  {
   "cell_type": "code",
   "execution_count": null,
   "metadata": {},
   "outputs": [],
   "source": [
    "data['rating'].unique()"
   ]
  },
  {
   "cell_type": "markdown",
   "metadata": {},
   "source": [
    "Already I get the impression that the missing values should just be 'UNRATED' or 'NOT RATED'. First, we should figure out the distinction between unrated and not rated movies.\n",
    "\n",
    "Not rated movies are movies that were not submitted to the MPAA for ratings.\n",
    "\n",
    "Unrated movies are those that have had scenes altered/omitted/added that may or may not have an effect on a movie's rating. Usually this only happens with DVD releases. Using this knowledge, it makes sense to turn all the missing values into 'NOT RATED' categories. There's no good reason to justify giving them a rating.\n",
    "\n",
    "Another solution is to find another dataset containing each movie and their respective ratings."
   ]
  },
  {
   "cell_type": "code",
   "execution_count": null,
   "metadata": {
    "scrolled": true
   },
   "outputs": [],
   "source": [
    "data[data['rating'].isna()].head()"
   ]
  },
  {
   "cell_type": "markdown",
   "metadata": {},
   "source": [
    "Looking at the first few movies with missing ratings, let's get a sense of whether they just have no rating at all, or if the dataset is just missing data.\n",
    "\n",
    "[Ugly, Dirty, and Bad](https://www.rottentomatoes.com/m/ugly_dirty_and_bad), has a rating of 'NR', Not Rated.\n",
    "\n",
    "[Losing Ground](https://www.rottentomatoes.com/m/losing_ground_1982), has a rating of 'NR', Not Rated.\n",
    "\n",
    "[L'argent](https://www.rottentomatoes.com/m/largent), has a rating of 'NR', Not Rated.\n",
    "\n",
    "[Rebels of the Neon God](https://www.rottentomatoes.com/m/rebels_of_the_neon_god), has a rating of 'NR', Not Rated. Strangely enough, this movie is listed as having come out on Apr 10, 2015. Whereas the dataset has August 4, 1994.\n",
    "\n",
    "[River of Grass](https://www.rottentomatoes.com/m/river_of_grass), has a rating of 'NR', Not Rated.\n",
    "\n",
    "Then it seems like a reasonable idea to assign each missing rating, 'NOT RATED'."
   ]
  },
  {
   "cell_type": "code",
   "execution_count": null,
   "metadata": {},
   "outputs": [],
   "source": [
    "data['rating'] = data['rating'].fillna('NOT RATED')"
   ]
  },
  {
   "cell_type": "code",
   "execution_count": null,
   "metadata": {},
   "outputs": [],
   "source": [
    "data.isna().sum()"
   ]
  },
  {
   "cell_type": "code",
   "execution_count": null,
   "metadata": {},
   "outputs": [],
   "source": [
    "data['imdb_rating'].unique()"
   ]
  },
  {
   "cell_type": "markdown",
   "metadata": {},
   "source": [
    "The first thing I notice is that we have partial ratings (ie. 8.5, 1.3, 2.2, etc.). Also, this is ordinal data, an 8 movie is better than a 7 movie is better than a 6 movie... So we will bin the ratings into the set [1, 2, 3, 4, 5, 6, 7, 8, 9, 10] after we deal with the missing data."
   ]
  },
  {
   "cell_type": "code",
   "execution_count": null,
   "metadata": {},
   "outputs": [],
   "source": [
    "data[data['imdb_rating'].isna()]"
   ]
  },
  {
   "cell_type": "markdown",
   "metadata": {},
   "source": [
    "Notice that a fair number of movies that are missing imdb ratings are also missing metacritic ratings, dvd releases, posters, and box office returns. On top of all of this, many also have release dates that are after 9/21/2017. There isn't a reason to try to impute these values since they're essentially missing all relevant information because they haven't been released yet."
   ]
  },
  {
   "cell_type": "code",
   "execution_count": null,
   "metadata": {},
   "outputs": [],
   "source": []
  }
 ],
 "metadata": {
  "kernelspec": {
   "display_name": "Python 3",
   "language": "python",
   "name": "python3"
  },
  "language_info": {
   "codemirror_mode": {
    "name": "ipython",
    "version": 3
   },
   "file_extension": ".py",
   "mimetype": "text/x-python",
   "name": "python",
   "nbconvert_exporter": "python",
   "pygments_lexer": "ipython3",
   "version": "3.7.2"
  }
 },
 "nbformat": 4,
 "nbformat_minor": 2
}
